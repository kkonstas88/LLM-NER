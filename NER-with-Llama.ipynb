{
 "cells": [
  {
   "cell_type": "code",
   "execution_count": 1,
   "metadata": {},
   "outputs": [],
   "source": [
    "# pip install torch --index-url https://download.pytorch.org/whl/cu121"
   ]
  },
  {
   "cell_type": "code",
   "execution_count": 2,
   "metadata": {},
   "outputs": [],
   "source": [
    "# pip install -r requirements.txt"
   ]
  },
  {
   "cell_type": "code",
   "execution_count": 3,
   "metadata": {},
   "outputs": [],
   "source": [
    "# Import packages\n",
    "import torch\n",
    "import numpy as np\n",
    "from transformers import AutoTokenizer, AutoModelForTokenClassification, Trainer, TrainingArguments\n",
    "from datasets import Dataset, DatasetDict\n",
    "from transformers.models.llama.modeling_llama import LlamaModel\n",
    "from peft import LoraConfig, get_peft_model\n",
    "from seqeval.metrics import classification_report, f1_score, precision_score, recall_score, accuracy_score\n",
    "from transformers.trainer_utils import EvalPrediction"
   ]
  },
  {
   "cell_type": "code",
   "execution_count": 4,
   "metadata": {},
   "outputs": [],
   "source": [
    "def read_conll_file(file_path):\n",
    "    # Open the file located at 'file_path' in read mode\n",
    "    with open(file_path, \"r\") as f:\n",
    "        # Read the entire file content and remove any leading/trailing whitespace\n",
    "        content = f.read().strip() \n",
    "        # Split the content into sentences, where each sentence is separated by a blank line (\"\\n\\n\")\n",
    "        sentences = content.split(\"\\n\\n\")   \n",
    "        # Initialize an empty list to store the parsed data for each sentence\n",
    "        data = []   \n",
    "        # Iterate over each sentence in the list of sentences\n",
    "        for sentence in sentences:\n",
    "            # Split each sentence into individual tokens (each token is on a new line)\n",
    "            tokens = sentence.split(\"\\n\")    \n",
    "            # Initialize a list to store the data for each token in the current sentence\n",
    "            token_data = [] \n",
    "            # Iterate over each token in the sentence\n",
    "            for token in tokens:\n",
    "                # Split the token into its components (e.g., word, POS tag, etc.)\n",
    "                token_data.append(token.split())     \n",
    "            # Append the list of token data for the current sentence to the overall data list\n",
    "            data.append(token_data) \n",
    "    # Return the parsed data as a list of sentences, where each sentence is a list of tokens,\n",
    "    # and each token is represented as a list of its components (e.g., word, POS tag, etc.)\n",
    "    return data"
   ]
  },
  {
   "cell_type": "code",
   "execution_count": 5,
   "metadata": {},
   "outputs": [],
   "source": [
    "# Read data\n",
    "train_data = read_conll_file(\"eng.train\")\n",
    "validation_data = read_conll_file(\"eng.testa\")\n",
    "test_data = read_conll_file(\"eng.testb\")"
   ]
  },
  {
   "cell_type": "code",
   "execution_count": 6,
   "metadata": {},
   "outputs": [
    {
     "name": "stdout",
     "output_type": "stream",
     "text": [
      "[[['-DOCSTART-', '-X-', '-X-', 'O']], [['EU', 'NNP', 'B-NP', 'B-ORG'], ['rejects', 'VBZ', 'B-VP', 'O'], ['German', 'JJ', 'B-NP', 'B-MISC'], ['call', 'NN', 'I-NP', 'O'], ['to', 'TO', 'B-VP', 'O'], ['boycott', 'VB', 'I-VP', 'O'], ['British', 'JJ', 'B-NP', 'B-MISC'], ['lamb', 'NN', 'I-NP', 'O'], ['.', '.', 'O', 'O']]]\n"
     ]
    }
   ],
   "source": [
    "# Show example\n",
    "print(train_data[:2])"
   ]
  },
  {
   "cell_type": "code",
   "execution_count": 7,
   "metadata": {},
   "outputs": [],
   "source": [
    "def convert_to_dataset(data, label_map):\n",
    "    # Initialize a dictionary to store formatted tokens and NER tags\n",
    "    formatted_data = {\"tokens\": [], \"ner_tags\": []}   \n",
    "    # Iterate over each sentence in the input data\n",
    "    for sentence in data:\n",
    "        # Extract the tokens (first element of each token_data tuple) from the sentence\n",
    "        tokens = [token_data[0] for token_data in sentence]\n",
    "        # Convert NER tags (fourth element of each token_data tuple) using label_map\n",
    "        ner_tags = [label_map[token_data[3]] for token_data in sentence]\n",
    "        # Append the extracted tokens and corresponding NER tags to the formatted_data dictionary\n",
    "        formatted_data[\"tokens\"].append(tokens)\n",
    "        formatted_data[\"ner_tags\"].append(ner_tags)\n",
    "    \n",
    "    # Convert the formatted data into a Dataset object and return it\n",
    "    return Dataset.from_dict(formatted_data)"
   ]
  },
  {
   "cell_type": "code",
   "execution_count": 8,
   "metadata": {},
   "outputs": [],
   "source": [
    "# Extract unique labels from the training data and sort them alphabetically\n",
    "label_list = sorted(\n",
    "    list(set([token_data[3] for sentence in train_data for token_data in sentence]))\n",
    ")\n",
    "\n",
    "# Create a mapping from each label to a unique integer index\n",
    "# This dictionary will map each label (from label_list) to its corresponding index\n",
    "label_map = {label: i for i, label in enumerate(label_list)}"
   ]
  },
  {
   "cell_type": "code",
   "execution_count": 9,
   "metadata": {},
   "outputs": [
    {
     "name": "stdout",
     "output_type": "stream",
     "text": [
      "['B-LOC', 'B-MISC', 'B-ORG', 'B-PER', 'I-LOC', 'I-MISC', 'I-ORG', 'I-PER', 'O']\n",
      "{'B-LOC': 0, 'B-MISC': 1, 'B-ORG': 2, 'B-PER': 3, 'I-LOC': 4, 'I-MISC': 5, 'I-ORG': 6, 'I-PER': 7, 'O': 8}\n"
     ]
    }
   ],
   "source": [
    "# Print the list of labels\n",
    "print(label_list)\n",
    "\n",
    "# Print the mapping of labels to their corresponding indices or values\n",
    "print(label_map)"
   ]
  },
  {
   "cell_type": "code",
   "execution_count": 10,
   "metadata": {},
   "outputs": [
    {
     "name": "stdout",
     "output_type": "stream",
     "text": [
      "{0: 'B-LOC', 1: 'B-MISC', 2: 'B-ORG', 3: 'B-PER', 4: 'I-LOC', 5: 'I-MISC', 6: 'I-ORG', 7: 'I-PER', 8: 'O'}\n"
     ]
    }
   ],
   "source": [
    "# Create a dictionary `id2label` by reversing the key-value pairs in `label_map`\n",
    "id2label = {value: key for key, value in label_map.items()}\n",
    "print(id2label)"
   ]
  },
  {
   "cell_type": "code",
   "execution_count": 11,
   "metadata": {},
   "outputs": [],
   "source": [
    "# Convert the training data into a dataset format using a label map for mapping labels\n",
    "train_dataset = convert_to_dataset(train_data, label_map)\n",
    "validation_dataset = convert_to_dataset(validation_data, label_map)\n",
    "test_dataset = convert_to_dataset(test_data, label_map)"
   ]
  },
  {
   "cell_type": "code",
   "execution_count": 12,
   "metadata": {},
   "outputs": [],
   "source": [
    "# Create a DatasetDict object to hold multiple datasets\n",
    "datasets = DatasetDict(\n",
    "    {\n",
    "        \"train\": train_dataset,\n",
    "        \"validation\": validation_dataset,\n",
    "        \"test\": test_dataset,\n",
    "    }\n",
    ")"
   ]
  },
  {
   "cell_type": "code",
   "execution_count": 13,
   "metadata": {},
   "outputs": [
    {
     "name": "stdout",
     "output_type": "stream",
     "text": [
      "Using device: cuda\n"
     ]
    }
   ],
   "source": [
    "# Check for CUDA availability\n",
    "device = torch.device(\"cuda\" if torch.cuda.is_available() else \"cpu\")\n",
    "print(f\"Using device: {device}\")"
   ]
  },
  {
   "cell_type": "code",
   "execution_count": 14,
   "metadata": {},
   "outputs": [],
   "source": [
    "# Set random seeds for reproducibility\n",
    "def set_seed(seed: int):\n",
    "    np.random.seed(seed)\n",
    "    torch.manual_seed(seed)\n",
    "    if torch.cuda.is_available():\n",
    "        torch.cuda.manual_seed_all(seed)\n",
    "    \n",
    "    torch.backends.cudnn.deterministic = True  # Ensures deterministic behavior\n",
    "    torch.backends.cudnn.benchmark = False     # Disables auto-tuning for convolutional layers"
   ]
  },
  {
   "cell_type": "code",
   "execution_count": 15,
   "metadata": {},
   "outputs": [
    {
     "name": "stderr",
     "output_type": "stream",
     "text": [
      "Some weights of LlamaForTokenClassification were not initialized from the model checkpoint at meta-llama/Llama-3.2-1B and are newly initialized: ['score.bias', 'score.weight']\n",
      "You should probably TRAIN this model on a down-stream task to be able to use it for predictions and inference.\n"
     ]
    }
   ],
   "source": [
    "set_seed(42)\n",
    "\n",
    "# Initialize tokenizer\n",
    "tokenizer = AutoTokenizer.from_pretrained(\"meta-llama/Llama-3.2-1B\")\n",
    "tokenizer.pad_token = tokenizer.eos_token\n",
    "tokenizer.padding_side = \"right\"\n",
    "\n",
    "# Create custom LlamaModel with bidirectional attention\n",
    "# class LlamaBidirectionalModel(LlamaModel):\n",
    "#     def _update_causal_mask(self, attention_mask):\n",
    "#         # Create bidirectional attention mask (all ones)\n",
    "#         bsz, seq_len = attention_mask.shape\n",
    "#         mask = torch.ones((bsz, 1, seq_len, seq_len), device=attention_mask.device)\n",
    "#         return mask\n",
    "\n",
    "# Initialize model with bidirectional attention\n",
    "model = AutoModelForTokenClassification.from_pretrained(\n",
    "    \"meta-llama/Llama-3.2-1B\",\n",
    "    pad_token_id=tokenizer.eos_token_id,\n",
    "    torch_dtype=torch.bfloat16,  # Use bfloat16 for model weights\n",
    "    device_map=\"auto\",  # Automatically map to available devices (e.g., GPU)\n",
    "    num_labels=len(label_list),\n",
    "    id2label=id2label,\n",
    "    label2id=label_map\n",
    ")\n",
    "\n",
    "# Replace the base model with bidirectional version\n",
    "# model.base_model = LlamaBidirectionalModel(model.config)\n",
    "model.config.is_decoder = False # already bidirectional, but setting in any case"
   ]
  },
  {
   "cell_type": "code",
   "execution_count": 16,
   "metadata": {},
   "outputs": [
    {
     "name": "stdout",
     "output_type": "stream",
     "text": [
      "Model is on device: cuda:0\n"
     ]
    }
   ],
   "source": [
    "# Verify model device placement\n",
    "print(f\"Model is on device: {next(model.parameters()).device}\")\n",
    "\n",
    "# Optional: Enable CUDA optimizations\n",
    "if torch.cuda.is_available():\n",
    "    torch.backends.cudnn.benchmark = True"
   ]
  },
  {
   "cell_type": "code",
   "execution_count": 17,
   "metadata": {},
   "outputs": [],
   "source": [
    "def compute_metrics(eval_prediction):\n",
    "    # Unpack the predictions and labels from the evaluation prediction tuple\n",
    "    predictions, labels = eval_prediction\n",
    "    \n",
    "    # Convert the predicted probabilities (or logits) to predicted class indices\n",
    "    # by taking the argmax along axis 2 (assuming predictions are in a 3D array)\n",
    "    predictions = np.argmax(predictions, axis=2)\n",
    "\n",
    "    # Remove ignored index (-100) from the labels and corresponding predictions.\n",
    "    # This is typically used to ignore special tokens in sequence labeling tasks like token classification.\n",
    "    \n",
    "    # true_predictions will hold the predicted labels for tokens that are not ignored (-100)\n",
    "    true_predictions = [\n",
    "        [label_list[p] for (p, l) in zip(prediction, label) if l != -100]\n",
    "        for prediction, label in zip(predictions, labels)\n",
    "    ]\n",
    "    \n",
    "    # true_labels will hold the actual labels for tokens that are not ignored (-100)\n",
    "    true_labels = [\n",
    "        [label_list[l] for (p, l) in zip(prediction, label) if l != -100]\n",
    "        for prediction, label in zip(predictions, labels)\n",
    "    ]\n",
    "\n",
    "    # Return a dictionary containing various evaluation metrics:\n",
    "    # 1. Accuracy: Measures overall correctness of predictions.\n",
    "    # 2. Precision: Measures how many selected items are relevant.\n",
    "    # 3. Recall: Measures how many relevant items are selected.\n",
    "    # 4. F1 Score: Harmonic mean of precision and recall.\n",
    "    # 5. Classification Report: Detailed report showing precision, recall, f1-score per class.\n",
    "    return {\n",
    "        \"accuracy\": accuracy_score(true_labels, true_predictions),\n",
    "        \"precision\": precision_score(true_labels, true_predictions),\n",
    "        \"recall\": recall_score(true_labels, true_predictions),\n",
    "        \"f1\": f1_score(true_labels, true_predictions)\n",
    "    }"
   ]
  },
  {
   "cell_type": "code",
   "execution_count": 18,
   "metadata": {},
   "outputs": [
    {
     "name": "stdout",
     "output_type": "stream",
     "text": [
      "Test with tuple: {'accuracy': 0.1, 'precision': np.float64(0.07142857142857142), 'recall': np.float64(0.08333333333333333), 'f1': np.float64(0.07692307692307691)}\n",
      "Test with EvalPrediction: {'accuracy': 0.1, 'precision': np.float64(0.07142857142857142), 'recall': np.float64(0.08333333333333333), 'f1': np.float64(0.07692307692307691)}\n"
     ]
    }
   ],
   "source": [
    "# Create mock data\n",
    "mock_predictions = np.random.rand(2, 10, len(label_list))  # Batch size 2, sequence length 10\n",
    "mock_labels = np.random.randint(0, len(label_list), size=(2, 10))\n",
    "\n",
    "# Test with tuple input\n",
    "test_metrics = compute_metrics((mock_predictions, mock_labels))\n",
    "print(\"Test with tuple:\", test_metrics)\n",
    "\n",
    "# Test with EvalPrediction object\n",
    "eval_pred = EvalPrediction(predictions=mock_predictions, label_ids=mock_labels)\n",
    "test_metrics = compute_metrics(eval_pred)\n",
    "print(\"Test with EvalPrediction:\", test_metrics)"
   ]
  },
  {
   "cell_type": "code",
   "execution_count": 19,
   "metadata": {},
   "outputs": [],
   "source": [
    "def tokenize_and_align_labels(examples):\n",
    "    # Tokenize the input tokens with truncation and padding. \n",
    "    # 'is_split_into_words=True' ensures that words are tokenized individually.\n",
    "    tokenized_inputs = tokenizer(\n",
    "        examples[\"tokens\"], truncation=True, is_split_into_words=True, padding=True\n",
    "    )\n",
    "    \n",
    "    # Initialize an empty list to store the aligned labels for each example.\n",
    "    labels = []\n",
    "    \n",
    "    # Loop through each example in the dataset\n",
    "    for i, label in enumerate(examples[\"ner_tags\"]):\n",
    "        # Get the word IDs for the current example after tokenization.\n",
    "        # These IDs map tokens back to their corresponding word in the original input.\n",
    "        word_ids = tokenized_inputs.word_ids(batch_index=i)\n",
    "        \n",
    "        previous_word_idx = None  # Variable to track the previous word index.\n",
    "        label_ids = []  # List to store label IDs aligned to tokens.\n",
    "\n",
    "        # Loop through each word index in the tokenized input.\n",
    "        for word_idx in word_ids:\n",
    "            if word_idx is None:\n",
    "                # If the token does not correspond to a word (e.g., special tokens), assign -100.\n",
    "                label_ids.append(-100)\n",
    "            elif word_idx != previous_word_idx:\n",
    "                # If the token corresponds to a new word (not a subword), assign its label.\n",
    "                label_ids.append(label[word_idx])\n",
    "            else:\n",
    "                # If the token is part of the same word (subword), assign -100 to ignore it.\n",
    "                label_ids.append(-100)\n",
    "            \n",
    "            # Update previous_word_idx to the current word index for comparison in the next iteration.\n",
    "            previous_word_idx = word_idx\n",
    "        \n",
    "        # Append the aligned labels for this example to the labels list.\n",
    "        labels.append(label_ids)\n",
    "    \n",
    "    # Add the aligned labels as a new key \"labels\" in the tokenized input dictionary.\n",
    "    tokenized_inputs[\"labels\"] = labels\n",
    "    \n",
    "    # Return the tokenized inputs along with their aligned labels.\n",
    "    return tokenized_inputs"
   ]
  },
  {
   "cell_type": "code",
   "execution_count": 20,
   "metadata": {},
   "outputs": [
    {
     "data": {
      "application/vnd.jupyter.widget-view+json": {
       "model_id": "fd5c3b9fbff34f33ad1694cd814c93c6",
       "version_major": 2,
       "version_minor": 0
      },
      "text/plain": [
       "Map:   0%|          | 0/4730 [00:00<?, ? examples/s]"
      ]
     },
     "metadata": {},
     "output_type": "display_data"
    },
    {
     "data": {
      "application/vnd.jupyter.widget-view+json": {
       "model_id": "22d00cf772ab4f509047fcfc97eda472",
       "version_major": 2,
       "version_minor": 0
      },
      "text/plain": [
       "Map:   0%|          | 0/1406 [00:00<?, ? examples/s]"
      ]
     },
     "metadata": {},
     "output_type": "display_data"
    },
    {
     "data": {
      "application/vnd.jupyter.widget-view+json": {
       "model_id": "6d609000c32c49b6998edf202d7ff477",
       "version_major": 2,
       "version_minor": 0
      },
      "text/plain": [
       "Map:   0%|          | 0/1630 [00:00<?, ? examples/s]"
      ]
     },
     "metadata": {},
     "output_type": "display_data"
    }
   ],
   "source": [
    "# # Apply the 'tokenize_and_align_labels' function to each example in the dataset using the map() method.\n",
    "# # - batched=True: This enables processing multiple examples at once (in batches) instead of one by one.\n",
    "# #   This speeds up the tokenization process, as tokenization libraries like Hugging Face's Tokenizers\n",
    "# #   can parallelize operations more efficiently when working with batches.\n",
    "tokenized_datasets = datasets.map(tokenize_and_align_labels, batched=True)"
   ]
  },
  {
   "cell_type": "code",
   "execution_count": 21,
   "metadata": {},
   "outputs": [
    {
     "data": {
      "text/plain": [
       "{'tokens': ['-DOCSTART-'], 'ner_tags': [8]}"
      ]
     },
     "execution_count": 21,
     "metadata": {},
     "output_type": "execute_result"
    }
   ],
   "source": [
    "datasets[\"test\"][0]"
   ]
  },
  {
   "cell_type": "code",
   "execution_count": 22,
   "metadata": {},
   "outputs": [
    {
     "name": "stdout",
     "output_type": "stream",
     "text": [
      "{'tokens': ['-DOCSTART-'], 'ner_tags': [8], 'input_ids': [128000, 12, 32564, 23380, 12, 128001, 128001, 128001, 128001, 128001, 128001, 128001, 128001, 128001, 128001, 128001, 128001, 128001, 128001, 128001, 128001, 128001, 128001, 128001, 128001, 128001, 128001, 128001, 128001, 128001, 128001, 128001, 128001, 128001, 128001, 128001, 128001, 128001, 128001, 128001, 128001, 128001, 128001, 128001, 128001, 128001, 128001, 128001, 128001, 128001, 128001, 128001, 128001, 128001, 128001, 128001, 128001, 128001, 128001, 128001, 128001, 128001, 128001, 128001, 128001, 128001, 128001, 128001, 128001, 128001, 128001, 128001, 128001, 128001, 128001, 128001, 128001, 128001, 128001, 128001, 128001, 128001, 128001, 128001, 128001, 128001, 128001, 128001, 128001, 128001, 128001, 128001, 128001, 128001, 128001, 128001, 128001, 128001, 128001, 128001, 128001, 128001, 128001, 128001, 128001, 128001, 128001, 128001, 128001, 128001, 128001, 128001, 128001, 128001, 128001, 128001, 128001, 128001, 128001, 128001, 128001, 128001, 128001, 128001, 128001, 128001, 128001, 128001, 128001, 128001, 128001, 128001, 128001, 128001, 128001, 128001, 128001, 128001, 128001, 128001, 128001, 128001, 128001, 128001, 128001, 128001, 128001, 128001, 128001, 128001, 128001, 128001, 128001, 128001, 128001, 128001, 128001, 128001, 128001, 128001, 128001], 'attention_mask': [1, 1, 1, 1, 1, 0, 0, 0, 0, 0, 0, 0, 0, 0, 0, 0, 0, 0, 0, 0, 0, 0, 0, 0, 0, 0, 0, 0, 0, 0, 0, 0, 0, 0, 0, 0, 0, 0, 0, 0, 0, 0, 0, 0, 0, 0, 0, 0, 0, 0, 0, 0, 0, 0, 0, 0, 0, 0, 0, 0, 0, 0, 0, 0, 0, 0, 0, 0, 0, 0, 0, 0, 0, 0, 0, 0, 0, 0, 0, 0, 0, 0, 0, 0, 0, 0, 0, 0, 0, 0, 0, 0, 0, 0, 0, 0, 0, 0, 0, 0, 0, 0, 0, 0, 0, 0, 0, 0, 0, 0, 0, 0, 0, 0, 0, 0, 0, 0, 0, 0, 0, 0, 0, 0, 0, 0, 0, 0, 0, 0, 0, 0, 0, 0, 0, 0, 0, 0, 0, 0, 0, 0, 0, 0, 0, 0, 0, 0, 0, 0, 0, 0, 0, 0, 0, 0, 0, 0, 0, 0, 0], 'labels': [-100, 8, -100, -100, -100, -100, -100, -100, -100, -100, -100, -100, -100, -100, -100, -100, -100, -100, -100, -100, -100, -100, -100, -100, -100, -100, -100, -100, -100, -100, -100, -100, -100, -100, -100, -100, -100, -100, -100, -100, -100, -100, -100, -100, -100, -100, -100, -100, -100, -100, -100, -100, -100, -100, -100, -100, -100, -100, -100, -100, -100, -100, -100, -100, -100, -100, -100, -100, -100, -100, -100, -100, -100, -100, -100, -100, -100, -100, -100, -100, -100, -100, -100, -100, -100, -100, -100, -100, -100, -100, -100, -100, -100, -100, -100, -100, -100, -100, -100, -100, -100, -100, -100, -100, -100, -100, -100, -100, -100, -100, -100, -100, -100, -100, -100, -100, -100, -100, -100, -100, -100, -100, -100, -100, -100, -100, -100, -100, -100, -100, -100, -100, -100, -100, -100, -100, -100, -100, -100, -100, -100, -100, -100, -100, -100, -100, -100, -100, -100, -100, -100, -100, -100, -100, -100, -100, -100, -100, -100, -100, -100]}\n"
     ]
    }
   ],
   "source": [
    "print(tokenized_datasets[\"test\"][0])"
   ]
  },
  {
   "cell_type": "code",
   "execution_count": 23,
   "metadata": {},
   "outputs": [],
   "source": [
    "def data_collator(data):\n",
    "    # Extract 'input_ids' from each item in the batch and convert them to tensors\n",
    "    input_ids = [torch.tensor(item[\"input_ids\"]) for item in data]\n",
    "    \n",
    "    # Extract 'attention_mask' from each item in the batch and convert them to tensors\n",
    "    attention_mask = [torch.tensor(item[\"attention_mask\"]) for item in data]\n",
    "    \n",
    "    # Extract 'labels' from each item in the batch and convert them to tensors\n",
    "    labels = [torch.tensor(item[\"labels\"]) for item in data]\n",
    "\n",
    "    # Pad the 'input_ids' to ensure all sequences in the batch have the same length\n",
    "    # Use tokenizer's pad token ID as the padding value\n",
    "    input_ids = torch.nn.utils.rnn.pad_sequence(input_ids, batch_first=True, padding_value=tokenizer.pad_token_id)\n",
    "    \n",
    "    # Pad the 'attention_mask' to match the padded 'input_ids'\n",
    "    # Use 0 as the padding value since 0 indicates no attention\n",
    "    attention_mask = torch.nn.utils.rnn.pad_sequence(attention_mask, batch_first=True, padding_value=0)\n",
    "    \n",
    "    # Pad the 'labels' so that all label sequences have the same length\n",
    "    # Use -100 as the padding value, which is typically ignored in loss calculations (for masked tokens)\n",
    "    labels = torch.nn.utils.rnn.pad_sequence(labels, batch_first=True, padding_value=-100)\n",
    "\n",
    "    # Return a dictionary containing the padded input_ids, attention_mask, and labels for the batch\n",
    "    return {\n",
    "        \"input_ids\": input_ids,\n",
    "        \"attention_mask\": attention_mask,\n",
    "        \"labels\": labels,\n",
    "    }"
   ]
  },
  {
   "cell_type": "code",
   "execution_count": 24,
   "metadata": {},
   "outputs": [],
   "source": [
    "# Extract the tokenized test data from the preprocessed dataset\n",
    "train_dataset_tokenized = tokenized_datasets[\"train\"]"
   ]
  },
  {
   "cell_type": "code",
   "execution_count": 25,
   "metadata": {},
   "outputs": [
    {
     "name": "stdout",
     "output_type": "stream",
     "text": [
      "{'input_ids': tensor([[128000,     12,  32564,  23380,     12, 128001, 128001, 128001, 128001,\n",
      "         128001, 128001, 128001, 128001, 128001, 128001, 128001, 128001, 128001,\n",
      "         128001, 128001, 128001, 128001, 128001, 128001, 128001, 128001, 128001,\n",
      "         128001, 128001, 128001, 128001, 128001, 128001, 128001, 128001, 128001,\n",
      "         128001, 128001, 128001, 128001, 128001, 128001, 128001, 128001, 128001,\n",
      "         128001, 128001, 128001, 128001, 128001, 128001, 128001, 128001, 128001,\n",
      "         128001, 128001, 128001, 128001, 128001, 128001, 128001, 128001, 128001,\n",
      "         128001, 128001, 128001, 128001, 128001, 128001, 128001, 128001, 128001,\n",
      "         128001, 128001, 128001, 128001, 128001, 128001, 128001, 128001, 128001,\n",
      "         128001, 128001, 128001, 128001, 128001, 128001, 128001, 128001, 128001],\n",
      "        [128000,  39907,  48096,     82,  33179,   6797,    998,    754,   3418,\n",
      "           1751,  52961,     75,   3042,     13, 128001, 128001, 128001, 128001,\n",
      "         128001, 128001, 128001, 128001, 128001, 128001, 128001, 128001, 128001,\n",
      "         128001, 128001, 128001, 128001, 128001, 128001, 128001, 128001, 128001,\n",
      "         128001, 128001, 128001, 128001, 128001, 128001, 128001, 128001, 128001,\n",
      "         128001, 128001, 128001, 128001, 128001, 128001, 128001, 128001, 128001,\n",
      "         128001, 128001, 128001, 128001, 128001, 128001, 128001, 128001, 128001,\n",
      "         128001, 128001, 128001, 128001, 128001, 128001, 128001, 128001, 128001,\n",
      "         128001, 128001, 128001, 128001, 128001, 128001, 128001, 128001, 128001,\n",
      "         128001, 128001, 128001, 128001, 128001, 128001, 128001, 128001, 128001]]), 'attention_mask': tensor([[1, 1, 1, 1, 1, 0, 0, 0, 0, 0, 0, 0, 0, 0, 0, 0, 0, 0, 0, 0, 0, 0, 0, 0,\n",
      "         0, 0, 0, 0, 0, 0, 0, 0, 0, 0, 0, 0, 0, 0, 0, 0, 0, 0, 0, 0, 0, 0, 0, 0,\n",
      "         0, 0, 0, 0, 0, 0, 0, 0, 0, 0, 0, 0, 0, 0, 0, 0, 0, 0, 0, 0, 0, 0, 0, 0,\n",
      "         0, 0, 0, 0, 0, 0, 0, 0, 0, 0, 0, 0, 0, 0, 0, 0, 0, 0],\n",
      "        [1, 1, 1, 1, 1, 1, 1, 1, 1, 1, 1, 1, 1, 1, 0, 0, 0, 0, 0, 0, 0, 0, 0, 0,\n",
      "         0, 0, 0, 0, 0, 0, 0, 0, 0, 0, 0, 0, 0, 0, 0, 0, 0, 0, 0, 0, 0, 0, 0, 0,\n",
      "         0, 0, 0, 0, 0, 0, 0, 0, 0, 0, 0, 0, 0, 0, 0, 0, 0, 0, 0, 0, 0, 0, 0, 0,\n",
      "         0, 0, 0, 0, 0, 0, 0, 0, 0, 0, 0, 0, 0, 0, 0, 0, 0, 0]]), 'labels': tensor([[-100,    8, -100, -100, -100, -100, -100, -100, -100, -100, -100, -100,\n",
      "         -100, -100, -100, -100, -100, -100, -100, -100, -100, -100, -100, -100,\n",
      "         -100, -100, -100, -100, -100, -100, -100, -100, -100, -100, -100, -100,\n",
      "         -100, -100, -100, -100, -100, -100, -100, -100, -100, -100, -100, -100,\n",
      "         -100, -100, -100, -100, -100, -100, -100, -100, -100, -100, -100, -100,\n",
      "         -100, -100, -100, -100, -100, -100, -100, -100, -100, -100, -100, -100,\n",
      "         -100, -100, -100, -100, -100, -100, -100, -100, -100, -100, -100, -100,\n",
      "         -100, -100, -100, -100, -100, -100],\n",
      "        [-100,    2,    8, -100,    1,    8,    8,    8, -100, -100,    1,    8,\n",
      "         -100,    8, -100, -100, -100, -100, -100, -100, -100, -100, -100, -100,\n",
      "         -100, -100, -100, -100, -100, -100, -100, -100, -100, -100, -100, -100,\n",
      "         -100, -100, -100, -100, -100, -100, -100, -100, -100, -100, -100, -100,\n",
      "         -100, -100, -100, -100, -100, -100, -100, -100, -100, -100, -100, -100,\n",
      "         -100, -100, -100, -100, -100, -100, -100, -100, -100, -100, -100, -100,\n",
      "         -100, -100, -100, -100, -100, -100, -100, -100, -100, -100, -100, -100,\n",
      "         -100, -100, -100, -100, -100, -100]])}\n"
     ]
    }
   ],
   "source": [
    "# Get a small batch of tokenized examples from your dataset\n",
    "batch = [train_dataset_tokenized[i] for i in range(2)]  # Take 2 examples from the train set\n",
    "\n",
    "# Pass the batch through the data collator\n",
    "collated_batch = data_collator(batch)\n",
    "\n",
    "# Inspect the output\n",
    "print(collated_batch)"
   ]
  },
  {
   "cell_type": "code",
   "execution_count": 26,
   "metadata": {},
   "outputs": [
    {
     "name": "stdout",
     "output_type": "stream",
     "text": [
      "Unique NER tags: {0, 1, 2, 3, 4, 5, 6, 7, 8}\n",
      "Model's number of labels: 9\n"
     ]
    }
   ],
   "source": [
    "# Check number of unique NER tags\n",
    "unique_labels = set([label for example in datasets['train'][\"ner_tags\"] for label in example])\n",
    "print(f\"Unique NER tags: {unique_labels}\")\n",
    "print(f\"Model's number of labels: {model.config.num_labels}\")"
   ]
  },
  {
   "cell_type": "code",
   "execution_count": 27,
   "metadata": {},
   "outputs": [],
   "source": [
    "# Check if any label is outside the valid range\n",
    "for example in datasets['train'][\"ner_tags\"]:\n",
    "    for label in example:\n",
    "        if label < 0 or label >= model.config.num_labels:\n",
    "            raise ValueError(f\"Invalid label found: {label}. Expected range: [0, {model.config.num_labels - 1}]\")"
   ]
  },
  {
   "cell_type": "code",
   "execution_count": 28,
   "metadata": {},
   "outputs": [
    {
     "name": "stdout",
     "output_type": "stream",
     "text": [
      "131072\n"
     ]
    }
   ],
   "source": [
    "# Show max content length\n",
    "print(tokenizer.model_max_length)\n",
    "\n",
    "# # Set the context window explicitly to 8192 tokens\n",
    "# ctx_len = 8192\n",
    "# tokenizer.model_max_length = ctx_len\n",
    "# model.config.rope_freq_base = (ctx_len / 131_072) * 500_000\n",
    "# print(model.config.rope_freq_base)"
   ]
  },
  {
   "cell_type": "code",
   "execution_count": 29,
   "metadata": {},
   "outputs": [
    {
     "name": "stdout",
     "output_type": "stream",
     "text": [
      "trainable params: 1,722,377 || all params: 1,237,555,218 || trainable%: 0.1392\n"
     ]
    }
   ],
   "source": [
    "# Define LoRA configuration\n",
    "\n",
    "lora_config = LoraConfig(\n",
    "    task_type=\"TOKEN_CLS\",      # Task type for token classification\n",
    "    r=16,                        # Rank of the low-rank matrices\n",
    "    lora_alpha=32,              # Scaling factor for LoRA updates\n",
    "    target_modules=[\"q_proj\", \"v_proj\"],   # Modules to apply LoRA (typically attention layers)\n",
    "    lora_dropout=0.1            # Dropout rate for LoRA layers\n",
    ")\n",
    "\n",
    "# Apply LoRA to the model\n",
    "model = get_peft_model(model, lora_config)\n",
    "model.print_trainable_parameters()"
   ]
  },
  {
   "cell_type": "code",
   "execution_count": 30,
   "metadata": {},
   "outputs": [],
   "source": [
    "# Define training arguments\n",
    "training_args = TrainingArguments(\n",
    "    output_dir=\"./results\",\n",
    "    eval_strategy=\"epoch\",\n",
    "    learning_rate=2e-4,\n",
    "    per_device_train_batch_size=16,\n",
    "    per_device_eval_batch_size=16,\n",
    "    num_train_epochs=1,\n",
    "    lr_scheduler_type=\"cosine\",\n",
    "    seed=42,\n",
    "    metric_for_best_model=\"f1\",\n",
    "    weight_decay=0.01,\n",
    "    bf16=True,\n",
    "    remove_unused_columns=False\n",
    ")"
   ]
  },
  {
   "cell_type": "code",
   "execution_count": 31,
   "metadata": {},
   "outputs": [],
   "source": [
    "# Initialize the Trainer class for model training and evaluation\n",
    "trainer = Trainer(\n",
    "    model=model,  # The model to be trained\n",
    "    train_dataset=tokenized_datasets[\"train\"],  # The tokenized training dataset\n",
    "    eval_dataset=tokenized_datasets[\"validation\"],  # The tokenized validation dataset for evaluation during training\n",
    "    data_collator=data_collator,  # A function or object that batches and pads the data\n",
    "    processing_class=tokenizer,  # The tokenizer used for processing the input text\n",
    "    compute_metrics=compute_metrics,  # A function to compute metrics during evaluation (e.g., accuracy, F1 score)\n",
    "    args=training_args  # Training arguments like batch size, number of epochs, learning rate, etc.  \n",
    ")"
   ]
  },
  {
   "cell_type": "code",
   "execution_count": 32,
   "metadata": {},
   "outputs": [
    {
     "data": {
      "application/vnd.jupyter.widget-view+json": {
       "model_id": "0301e0b596db46449b444f82e5bf591f",
       "version_major": 2,
       "version_minor": 0
      },
      "text/plain": [
       "  0%|          | 0/296 [00:00<?, ?it/s]"
      ]
     },
     "metadata": {},
     "output_type": "display_data"
    },
    {
     "data": {
      "application/vnd.jupyter.widget-view+json": {
       "model_id": "5f42bfb7860c4a08bd59c3f6923a1b25",
       "version_major": 2,
       "version_minor": 0
      },
      "text/plain": [
       "  0%|          | 0/88 [00:00<?, ?it/s]"
      ]
     },
     "metadata": {},
     "output_type": "display_data"
    },
    {
     "name": "stdout",
     "output_type": "stream",
     "text": [
      "{'eval_loss': 0.13980688154697418, 'eval_accuracy': 0.9582425906637629, 'eval_precision': 0.6509207365892714, 'eval_recall': 0.7185152452496686, 'eval_f1': 0.683049779458097, 'eval_runtime': 6.4022, 'eval_samples_per_second': 219.611, 'eval_steps_per_second': 13.745, 'epoch': 1.0}\n",
      "{'train_runtime': 56.3817, 'train_samples_per_second': 83.893, 'train_steps_per_second': 5.25, 'train_loss': 0.28151617823420344, 'epoch': 1.0}\n"
     ]
    },
    {
     "data": {
      "text/plain": [
       "TrainOutput(global_step=296, training_loss=0.28151617823420344, metrics={'train_runtime': 56.3817, 'train_samples_per_second': 83.893, 'train_steps_per_second': 5.25, 'total_flos': 2516167568139120.0, 'train_loss': 0.28151617823420344, 'epoch': 1.0})"
      ]
     },
     "execution_count": 32,
     "metadata": {},
     "output_type": "execute_result"
    }
   ],
   "source": [
    "# Train the model\n",
    "trainer.train()"
   ]
  },
  {
   "cell_type": "code",
   "execution_count": 33,
   "metadata": {},
   "outputs": [],
   "source": [
    "# Save the model\n",
    "trainer.save_model('./bidirectional_llama32')"
   ]
  },
  {
   "cell_type": "code",
   "execution_count": 34,
   "metadata": {},
   "outputs": [],
   "source": [
    "# Extract datasets\n",
    "train_dataset_tokenized = tokenized_datasets[\"train\"]\n",
    "val_dataset_tokenized = tokenized_datasets[\"validation\"]\n",
    "test_dataset_tokenized = tokenized_datasets[\"test\"]"
   ]
  },
  {
   "cell_type": "code",
   "execution_count": 35,
   "metadata": {},
   "outputs": [
    {
     "data": {
      "application/vnd.jupyter.widget-view+json": {
       "model_id": "b2519d9a9da448599225ebe79eab4cd0",
       "version_major": 2,
       "version_minor": 0
      },
      "text/plain": [
       "  0%|          | 0/296 [00:00<?, ?it/s]"
      ]
     },
     "metadata": {},
     "output_type": "display_data"
    },
    {
     "data": {
      "application/vnd.jupyter.widget-view+json": {
       "model_id": "25126d39964c4bef9885ea942336f7b7",
       "version_major": 2,
       "version_minor": 0
      },
      "text/plain": [
       "  0%|          | 0/88 [00:00<?, ?it/s]"
      ]
     },
     "metadata": {},
     "output_type": "display_data"
    },
    {
     "data": {
      "application/vnd.jupyter.widget-view+json": {
       "model_id": "49959fe3b4e74ab087e9c87aaa15b29b",
       "version_major": 2,
       "version_minor": 0
      },
      "text/plain": [
       "  0%|          | 0/102 [00:00<?, ?it/s]"
      ]
     },
     "metadata": {},
     "output_type": "display_data"
    }
   ],
   "source": [
    "# Use the trained model to perform predictions on the tokenized test dataset\n",
    "# 'predictions' will contain the model's output, 'labels' will contain the true labels,\n",
    "# and 'metrics' will store evaluation metrics (e.g., accuracy, precision, recall, etc.)\n",
    "predictions_train, labels_train, metrics_train = trainer.predict(train_dataset_tokenized)\n",
    "predictions_val, labels_val, metrics_val = trainer.predict(val_dataset_tokenized)\n",
    "predictions_test, labels_test, metrics_test = trainer.predict(test_dataset_tokenized)"
   ]
  },
  {
   "cell_type": "code",
   "execution_count": 39,
   "metadata": {},
   "outputs": [
    {
     "name": "stdout",
     "output_type": "stream",
     "text": [
      "Training Performance:  {'test_loss': 0.14612407982349396, 'test_accuracy': 0.9582167804223078, 'test_precision': 0.694992041141178, 'test_recall': 0.7393513091051191, 'test_f1': 0.7164857359252715, 'test_runtime': 20.8628, 'test_samples_per_second': 226.719, 'test_steps_per_second': 14.188}\n",
      "Validation Performance:  {'test_loss': 0.13980688154697418, 'test_accuracy': 0.9582425906637629, 'test_precision': 0.6509207365892714, 'test_recall': 0.7185152452496686, 'test_f1': 0.683049779458097, 'test_runtime': 6.2764, 'test_samples_per_second': 224.015, 'test_steps_per_second': 14.021}\n"
     ]
    },
    {
     "data": {
      "text/plain": [
       "'Test Performance: '"
      ]
     },
     "metadata": {},
     "output_type": "display_data"
    },
    {
     "data": {
      "text/plain": [
       "{'test_loss': 0.19931994378566742,\n",
       " 'test_accuracy': 0.9459214227384085,\n",
       " 'test_precision': 0.6040452519712033,\n",
       " 'test_recall': 0.6686907020872865,\n",
       " 'test_f1': 0.6347262247838616,\n",
       " 'test_runtime': 10.5956,\n",
       " 'test_samples_per_second': 153.838,\n",
       " 'test_steps_per_second': 9.627}"
      ]
     },
     "metadata": {},
     "output_type": "display_data"
    }
   ],
   "source": [
    "# Display the performance metrics\n",
    "\n",
    "print(\"Training Performance: \",  metrics_train)\n",
    "print(\"Validation Performance: \",  metrics_val)\n",
    "display(\"Test Performance: \",  metrics_test) "
   ]
  },
  {
   "cell_type": "code",
   "execution_count": 37,
   "metadata": {},
   "outputs": [
    {
     "name": "stdout",
     "output_type": "stream",
     "text": [
      "Example 1: Steve Jobs, the co-founder of Apple Inc., was born in San Francisco, California.\n",
      "####\n",
      "Named Entities:\n",
      "Steve: B-ORG\n",
      "Apple: B-ORG\n",
      "Inc: I-ORG\n",
      "San: B-LOC\n",
      "Francisco: B-LOC\n",
      "California: B-LOC\n"
     ]
    }
   ],
   "source": [
    "set_seed(42)\n",
    "\n",
    "# Input sentence\n",
    "sentence = \"Steve Jobs, the co-founder of Apple Inc., was born in San Francisco, California.\"\n",
    "\n",
    "# Tokenize without adding special tokens\n",
    "tokenized_input = tokenizer(sentence, return_tensors=\"pt\", add_special_tokens=False).to(model.device)\n",
    "\n",
    "# Get model outputs\n",
    "outputs = model(**tokenized_input)\n",
    "\n",
    "# Get predicted labels (argmax over logits)\n",
    "predicted_labels = outputs.logits.argmax(-1)[0]\n",
    "\n",
    "# Inverted label map (assuming label_map is defined elsewhere)\n",
    "label_map_inverted = {v: k for k, v in label_map.items()}\n",
    "\n",
    "# Initialize variables to store named entities\n",
    "named_entities = []\n",
    "current_entity_tokens = []\n",
    "current_label = None\n",
    "\n",
    "# Iterate over tokens and predicted labels\n",
    "for token_id, label_id in zip(tokenized_input[\"input_ids\"][0], predicted_labels):\n",
    "    token = tokenizer.decode([token_id])\n",
    "    label = label_map_inverted[label_id.item()]\n",
    "\n",
    "    # Skip 'O' labels (non-entity tokens)\n",
    "    if label == \"O\":\n",
    "        if current_entity_tokens:\n",
    "            # Append the current entity and its label to the list\n",
    "            named_entities.append((\" \".join(current_entity_tokens).strip(), current_label))\n",
    "            current_entity_tokens = []\n",
    "            current_label = None\n",
    "        continue\n",
    "\n",
    "    # Handle subword tokens (tokens starting with '##')\n",
    "    if token.startswith(\"##\"):\n",
    "        current_entity_tokens[-1] += token[2:]  # Append subword to the last token\n",
    "    else:\n",
    "        # If it's a new entity or different from the current one, append the previous entity first\n",
    "        if not current_entity_tokens or label.split(\"-\")[0] == \"B\" or label != current_label:\n",
    "            if current_entity_tokens:\n",
    "                named_entities.append((\" \".join(current_entity_tokens).strip(), current_label))\n",
    "            current_entity_tokens = [token]  # Start a new entity\n",
    "        else:\n",
    "            current_entity_tokens.append(token)  # Continue appending to the current entity\n",
    "\n",
    "        current_label = label\n",
    "\n",
    "# Append any remaining entity at the end\n",
    "if current_entity_tokens:\n",
    "    named_entities.append((\" \".join(current_entity_tokens).strip(), current_label))\n",
    "\n",
    "# Print results\n",
    "print(\"Example 1:\", sentence)\n",
    "print(\"####\")\n",
    "print(\"Named Entities:\")\n",
    "for entity, label in named_entities:\n",
    "    print(f\"{entity}: {label}\")"
   ]
  }
 ],
 "metadata": {
  "kernelspec": {
   "display_name": "test_ner",
   "language": "python",
   "name": "python3"
  },
  "language_info": {
   "codemirror_mode": {
    "name": "ipython",
    "version": 3
   },
   "file_extension": ".py",
   "mimetype": "text/x-python",
   "name": "python",
   "nbconvert_exporter": "python",
   "pygments_lexer": "ipython3",
   "version": "3.10.15"
  }
 },
 "nbformat": 4,
 "nbformat_minor": 2
}
