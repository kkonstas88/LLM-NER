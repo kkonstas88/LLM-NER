{
 "cells": [
  {
   "cell_type": "code",
   "execution_count": 1,
   "metadata": {},
   "outputs": [],
   "source": [
    "# pip install torch --index-url https://download.pytorch.org/whl/cu124"
   ]
  },
  {
   "cell_type": "code",
   "execution_count": 2,
   "metadata": {},
   "outputs": [],
   "source": [
    "# pip install -r requirements.txt"
   ]
  },
  {
   "cell_type": "code",
   "execution_count": 3,
   "metadata": {},
   "outputs": [],
   "source": [
    "# Import packages\n",
    "import torch\n",
    "import numpy as np\n",
    "from transformers import (\n",
    "    AutoTokenizer,\n",
    "    AutoModelForTokenClassification,\n",
    "    Trainer,\n",
    "    TrainingArguments,\n",
    ")\n",
    "from datasets import Dataset, DatasetDict\n",
    "from transformers.models.llama.modeling_llama import LlamaModel\n",
    "from peft import LoraConfig, get_peft_model\n",
    "from seqeval.metrics import f1_score, precision_score, recall_score, accuracy_score\n",
    "from transformers.trainer_utils import EvalPrediction"
   ]
  },
  {
   "cell_type": "code",
   "execution_count": 4,
   "metadata": {},
   "outputs": [],
   "source": [
    "def read_conll_file(file_path):\n",
    "    # Open the file located at 'file_path' in read mode\n",
    "    with open(file_path, \"r\") as f:\n",
    "        # Read the entire file content and remove any leading/trailing whitespace\n",
    "        content = f.read().strip()\n",
    "        # Split the content into sentences, where each sentence is separated by a blank line (\"\\n\\n\")\n",
    "        sentences = content.split(\"\\n\\n\")\n",
    "        # Initialize an empty list to store the parsed data for each sentence\n",
    "        data = []\n",
    "        # Iterate over each sentence in the list of sentences\n",
    "        for sentence in sentences:\n",
    "            # Split each sentence into individual tokens (each token is on a new line)\n",
    "            tokens = sentence.split(\"\\n\")\n",
    "            # Initialize a list to store the data for each token in the current sentence\n",
    "            token_data = []\n",
    "            # Iterate over each token in the sentence\n",
    "            for token in tokens:\n",
    "                # Split the token into its components (e.g., word, POS tag, etc.)\n",
    "                token_data.append(token.split())\n",
    "            # Append the list of token data for the current sentence to the overall data list\n",
    "            data.append(token_data)\n",
    "    # Return the parsed data as a list of sentences, where each sentence is a list of tokens,\n",
    "    # and each token is represented as a list of its components (e.g., word, POS tag, etc.)\n",
    "    return data"
   ]
  },
  {
   "cell_type": "code",
   "execution_count": 5,
   "metadata": {},
   "outputs": [],
   "source": [
    "# Read data\n",
    "train_data = read_conll_file(\"eng.train\")\n",
    "validation_data = read_conll_file(\"eng.testa\")\n",
    "test_data = read_conll_file(\"eng.testb\")"
   ]
  },
  {
   "cell_type": "code",
   "execution_count": 6,
   "metadata": {},
   "outputs": [
    {
     "name": "stdout",
     "output_type": "stream",
     "text": [
      "[[['-DOCSTART-', '-X-', '-X-', 'O']], [['EU', 'NNP', 'B-NP', 'B-ORG'], ['rejects', 'VBZ', 'B-VP', 'O'], ['German', 'JJ', 'B-NP', 'B-MISC'], ['call', 'NN', 'I-NP', 'O'], ['to', 'TO', 'B-VP', 'O'], ['boycott', 'VB', 'I-VP', 'O'], ['British', 'JJ', 'B-NP', 'B-MISC'], ['lamb', 'NN', 'I-NP', 'O'], ['.', '.', 'O', 'O']]]\n"
     ]
    }
   ],
   "source": [
    "# Show example\n",
    "print(train_data[:2])"
   ]
  },
  {
   "cell_type": "code",
   "execution_count": 7,
   "metadata": {},
   "outputs": [],
   "source": [
    "def convert_to_dataset(data, label_map):\n",
    "    # Initialize a dictionary to store formatted tokens and NER tags\n",
    "    formatted_data = {\"tokens\": [], \"ner_tags\": []}\n",
    "    # Iterate over each sentence in the input data\n",
    "    for sentence in data:\n",
    "        # Extract the tokens (first element of each token_data tuple) from the sentence\n",
    "        tokens = [token_data[0] for token_data in sentence]\n",
    "        # Convert NER tags (fourth element of each token_data tuple) using label_map\n",
    "        ner_tags = [label_map[token_data[3]] for token_data in sentence]\n",
    "        # Append the extracted tokens and corresponding NER tags to the formatted_data dictionary\n",
    "        formatted_data[\"tokens\"].append(tokens)\n",
    "        formatted_data[\"ner_tags\"].append(ner_tags)\n",
    "\n",
    "    # Convert the formatted data into a Dataset object and return it\n",
    "    return Dataset.from_dict(formatted_data)"
   ]
  },
  {
   "cell_type": "code",
   "execution_count": 8,
   "metadata": {},
   "outputs": [],
   "source": [
    "# Extract unique labels from the training data and sort them alphabetically\n",
    "label_list = sorted(\n",
    "    list(set([token_data[3] for sentence in train_data for token_data in sentence]))\n",
    ")\n",
    "\n",
    "# Create a mapping from each label to a unique integer index\n",
    "# This dictionary will map each label (from label_list) to its corresponding index\n",
    "label_map = {label: i for i, label in enumerate(label_list)}"
   ]
  },
  {
   "cell_type": "code",
   "execution_count": 9,
   "metadata": {},
   "outputs": [
    {
     "name": "stdout",
     "output_type": "stream",
     "text": [
      "['B-LOC', 'B-MISC', 'B-ORG', 'B-PER', 'I-LOC', 'I-MISC', 'I-ORG', 'I-PER', 'O']\n",
      "{'B-LOC': 0, 'B-MISC': 1, 'B-ORG': 2, 'B-PER': 3, 'I-LOC': 4, 'I-MISC': 5, 'I-ORG': 6, 'I-PER': 7, 'O': 8}\n"
     ]
    }
   ],
   "source": [
    "# Print the list of labels\n",
    "print(label_list)\n",
    "\n",
    "# Print the mapping of labels to their corresponding indices or values\n",
    "print(label_map)"
   ]
  },
  {
   "cell_type": "code",
   "execution_count": 10,
   "metadata": {},
   "outputs": [
    {
     "name": "stdout",
     "output_type": "stream",
     "text": [
      "{0: 'B-LOC', 1: 'B-MISC', 2: 'B-ORG', 3: 'B-PER', 4: 'I-LOC', 5: 'I-MISC', 6: 'I-ORG', 7: 'I-PER', 8: 'O'}\n"
     ]
    }
   ],
   "source": [
    "# Create a dictionary `id2label` by reversing the key-value pairs in `label_map`\n",
    "id2label = {value: key for key, value in label_map.items()}\n",
    "print(id2label)"
   ]
  },
  {
   "cell_type": "code",
   "execution_count": 11,
   "metadata": {},
   "outputs": [],
   "source": [
    "# Convert the training data into a dataset format using a label map for mapping labels\n",
    "train_dataset = convert_to_dataset(train_data, label_map)\n",
    "validation_dataset = convert_to_dataset(validation_data, label_map)\n",
    "test_dataset = convert_to_dataset(test_data, label_map)"
   ]
  },
  {
   "cell_type": "code",
   "execution_count": 12,
   "metadata": {},
   "outputs": [],
   "source": [
    "# Create a DatasetDict object to hold multiple datasets\n",
    "datasets = DatasetDict(\n",
    "    {\n",
    "        \"train\": train_dataset,\n",
    "        \"validation\": validation_dataset,\n",
    "        \"test\": test_dataset,\n",
    "    }\n",
    ")"
   ]
  },
  {
   "cell_type": "code",
   "execution_count": 13,
   "metadata": {},
   "outputs": [
    {
     "name": "stdout",
     "output_type": "stream",
     "text": [
      "Using device: cuda\n"
     ]
    }
   ],
   "source": [
    "# Check for CUDA availability\n",
    "device = torch.device(\"cuda\" if torch.cuda.is_available() else \"cpu\")\n",
    "print(f\"Using device: {device}\")"
   ]
  },
  {
   "cell_type": "code",
   "execution_count": 14,
   "metadata": {},
   "outputs": [],
   "source": [
    "# Set random seeds for reproducibility\n",
    "def set_seed(seed: int):\n",
    "    np.random.seed(seed)\n",
    "    torch.manual_seed(seed)\n",
    "    if torch.cuda.is_available():\n",
    "        torch.cuda.manual_seed_all(seed)\n",
    "\n",
    "    torch.backends.cudnn.deterministic = True  # Ensures deterministic behavior"
   ]
  },
  {
   "cell_type": "code",
   "execution_count": 15,
   "metadata": {},
   "outputs": [
    {
     "name": "stderr",
     "output_type": "stream",
     "text": [
      "Some weights of LlamaForTokenClassification were not initialized from the model checkpoint at meta-llama/Llama-3.2-1B and are newly initialized: ['score.bias', 'score.weight']\n",
      "You should probably TRAIN this model on a down-stream task to be able to use it for predictions and inference.\n"
     ]
    }
   ],
   "source": [
    "set_seed(42)\n",
    "\n",
    "# Initialize tokenizer\n",
    "tokenizer = AutoTokenizer.from_pretrained(\"meta-llama/Llama-3.2-1B\")\n",
    "tokenizer.pad_token = tokenizer.eos_token\n",
    "tokenizer.padding_side = \"right\"\n",
    "\n",
    "\n",
    "# Create custom LlamaModel with bidirectional attention\n",
    "class LlamaBidirectionalModel(LlamaModel):\n",
    "    def _update_causal_mask(self, attention_mask):\n",
    "        # Create bidirectional attention mask (all ones)\n",
    "        bsz, seq_len = attention_mask.shape\n",
    "        mask = torch.ones((bsz, 1, seq_len, seq_len), device=attention_mask.device)\n",
    "        return mask\n",
    "\n",
    "\n",
    "# Initialize model with bidirectional attention\n",
    "model = AutoModelForTokenClassification.from_pretrained(\n",
    "    \"meta-llama/Llama-3.2-1B\",\n",
    "    pad_token_id=tokenizer.eos_token_id,\n",
    "    torch_dtype=torch.bfloat16,  # Use bfloat16 for model weights\n",
    "    device_map=\"auto\",  # Automatically map to available devices (e.g., GPU)\n",
    "    num_labels=len(label_list),\n",
    "    id2label=id2label,\n",
    "    label2id=label_map,\n",
    ")\n",
    "\n",
    "# Replace the base model with bidirectional version\n",
    "model.base_model = LlamaBidirectionalModel(model.config)\n",
    "model.config.is_decoder = False  # already bidirectional, but setting in any case"
   ]
  },
  {
   "cell_type": "code",
   "execution_count": 16,
   "metadata": {},
   "outputs": [
    {
     "name": "stdout",
     "output_type": "stream",
     "text": [
      "Model is on device: cuda:0\n"
     ]
    }
   ],
   "source": [
    "# Verify model device placement\n",
    "print(f\"Model is on device: {next(model.parameters()).device}\")\n",
    "\n",
    "# Optional: Enable CUDA optimizations\n",
    "if torch.cuda.is_available():\n",
    "    torch.backends.cudnn.benchmark = True"
   ]
  },
  {
   "cell_type": "code",
   "execution_count": 17,
   "metadata": {},
   "outputs": [],
   "source": [
    "def compute_metrics(eval_prediction):\n",
    "    # Unpack the predictions and labels from the evaluation prediction tuple\n",
    "    predictions, labels = eval_prediction\n",
    "\n",
    "    # Convert the predicted probabilities (or logits) to predicted class indices\n",
    "    # by taking the argmax along axis 2 (assuming predictions are in a 3D array)\n",
    "    predictions = np.argmax(predictions, axis=2)\n",
    "\n",
    "    # Remove ignored index (-100) from the labels and corresponding predictions.\n",
    "    # This is typically used to ignore special tokens in sequence labeling tasks like token classification.\n",
    "\n",
    "    # true_predictions will hold the predicted labels for tokens that are not ignored (-100)\n",
    "    true_predictions = [\n",
    "        [label_list[p] for (p, l) in zip(prediction, label) if l != -100]\n",
    "        for prediction, label in zip(predictions, labels)\n",
    "    ]\n",
    "\n",
    "    # true_labels will hold the actual labels for tokens that are not ignored (-100)\n",
    "    true_labels = [\n",
    "        [label_list[l] for (p, l) in zip(prediction, label) if l != -100]\n",
    "        for prediction, label in zip(predictions, labels)\n",
    "    ]\n",
    "\n",
    "    # Return a dictionary containing various evaluation metrics:\n",
    "    # 1. Accuracy: Measures overall correctness of predictions.\n",
    "    # 2. Precision: Measures how many selected items are relevant.\n",
    "    # 3. Recall: Measures how many relevant items are selected.\n",
    "    # 4. F1 Score: Harmonic mean of precision and recall.\n",
    "    return {\n",
    "        \"accuracy\": accuracy_score(true_labels, true_predictions),\n",
    "        \"precision\": precision_score(true_labels, true_predictions),\n",
    "        \"recall\": recall_score(true_labels, true_predictions),\n",
    "        \"f1\": f1_score(true_labels, true_predictions),\n",
    "    }"
   ]
  },
  {
   "cell_type": "code",
   "execution_count": 18,
   "metadata": {},
   "outputs": [
    {
     "name": "stdout",
     "output_type": "stream",
     "text": [
      "Test with tuple: {'accuracy': 0.1, 'precision': 0.07142857142857142, 'recall': 0.08333333333333333, 'f1': 0.07692307692307691}\n",
      "Test with EvalPrediction: {'accuracy': 0.1, 'precision': 0.07142857142857142, 'recall': 0.08333333333333333, 'f1': 0.07692307692307691}\n"
     ]
    }
   ],
   "source": [
    "# Create mock data\n",
    "mock_predictions = np.random.rand(\n",
    "    2, 10, len(label_list)\n",
    ")  # Batch size 2, sequence length 10\n",
    "mock_labels = np.random.randint(0, len(label_list), size=(2, 10))\n",
    "\n",
    "# Test with tuple input\n",
    "test_metrics = compute_metrics((mock_predictions, mock_labels))\n",
    "print(\"Test with tuple:\", test_metrics)\n",
    "\n",
    "# Test with EvalPrediction object\n",
    "eval_pred = EvalPrediction(predictions=mock_predictions, label_ids=mock_labels)\n",
    "test_metrics = compute_metrics(eval_pred)\n",
    "print(\"Test with EvalPrediction:\", test_metrics)"
   ]
  },
  {
   "cell_type": "code",
   "execution_count": 19,
   "metadata": {},
   "outputs": [],
   "source": [
    "def tokenize_and_align_labels(examples):\n",
    "    # Tokenize the input tokens with truncation and padding.\n",
    "    # 'is_split_into_words=True' ensures that words are tokenized individually.\n",
    "    tokenized_inputs = tokenizer(\n",
    "        examples[\"tokens\"], truncation=True, is_split_into_words=True, padding=True\n",
    "    )\n",
    "\n",
    "    # Initialize an empty list to store the aligned labels for each example.\n",
    "    labels = []\n",
    "\n",
    "    # Loop through each example in the dataset\n",
    "    for i, label in enumerate(examples[\"ner_tags\"]):\n",
    "        # Get the word IDs for the current example after tokenization.\n",
    "        # These IDs map tokens back to their corresponding word in the original input.\n",
    "        word_ids = tokenized_inputs.word_ids(batch_index=i)\n",
    "\n",
    "        previous_word_idx = None  # Variable to track the previous word index.\n",
    "        label_ids = []  # List to store label IDs aligned to tokens.\n",
    "\n",
    "        # Loop through each word index in the tokenized input.\n",
    "        for word_idx in word_ids:\n",
    "            if word_idx is None:\n",
    "                # If the token does not correspond to a word (e.g., special tokens), assign -100.\n",
    "                label_ids.append(-100)\n",
    "            elif word_idx != previous_word_idx:\n",
    "                # If the token corresponds to a new word (not a subword), assign its label.\n",
    "                label_ids.append(label[word_idx])\n",
    "            else:\n",
    "                # If the token is part of the same word (subword), assign -100 to ignore it.\n",
    "                label_ids.append(-100)\n",
    "\n",
    "            # Update previous_word_idx to the current word index for comparison in the next iteration.\n",
    "            previous_word_idx = word_idx\n",
    "\n",
    "        # Append the aligned labels for this example to the labels list.\n",
    "        labels.append(label_ids)\n",
    "\n",
    "    # Add the aligned labels as a new key \"labels\" in the tokenized input dictionary.\n",
    "    tokenized_inputs[\"labels\"] = labels\n",
    "\n",
    "    # Return the tokenized inputs along with their aligned labels.\n",
    "    return tokenized_inputs"
   ]
  },
  {
   "cell_type": "code",
   "execution_count": 20,
   "metadata": {},
   "outputs": [
    {
     "data": {
      "application/vnd.jupyter.widget-view+json": {
       "model_id": "e6569023c02147b1b679b126f4219a3d",
       "version_major": 2,
       "version_minor": 0
      },
      "text/plain": [
       "Map:   0%|          | 0/14987 [00:00<?, ? examples/s]"
      ]
     },
     "metadata": {},
     "output_type": "display_data"
    },
    {
     "data": {
      "application/vnd.jupyter.widget-view+json": {
       "model_id": "8f2809b458f2472180ef366828a50daa",
       "version_major": 2,
       "version_minor": 0
      },
      "text/plain": [
       "Map:   0%|          | 0/3466 [00:00<?, ? examples/s]"
      ]
     },
     "metadata": {},
     "output_type": "display_data"
    },
    {
     "data": {
      "application/vnd.jupyter.widget-view+json": {
       "model_id": "37587122e56d44d39d15515b1613f2e0",
       "version_major": 2,
       "version_minor": 0
      },
      "text/plain": [
       "Map:   0%|          | 0/3684 [00:00<?, ? examples/s]"
      ]
     },
     "metadata": {},
     "output_type": "display_data"
    }
   ],
   "source": [
    "# # Apply the 'tokenize_and_align_labels' function to each example in the dataset using the map() method.\n",
    "# # - batched=True: This enables processing multiple examples at once (in batches) instead of one by one.\n",
    "# #   This speeds up the tokenization process, as tokenization libraries like Hugging Face's Tokenizers\n",
    "# #   can parallelize operations more efficiently when working with batches.\n",
    "tokenized_datasets = datasets.map(tokenize_and_align_labels, batched=True)"
   ]
  },
  {
   "cell_type": "code",
   "execution_count": 21,
   "metadata": {},
   "outputs": [
    {
     "data": {
      "text/plain": [
       "{'tokens': ['-DOCSTART-'], 'ner_tags': [8]}"
      ]
     },
     "execution_count": 21,
     "metadata": {},
     "output_type": "execute_result"
    }
   ],
   "source": [
    "datasets[\"test\"][0]"
   ]
  },
  {
   "cell_type": "code",
   "execution_count": 22,
   "metadata": {},
   "outputs": [
    {
     "name": "stdout",
     "output_type": "stream",
     "text": [
      "{'tokens': ['-DOCSTART-'], 'ner_tags': [8], 'input_ids': [128000, 12, 32564, 23380, 12, 128001, 128001, 128001, 128001, 128001, 128001, 128001, 128001, 128001, 128001, 128001, 128001, 128001, 128001, 128001, 128001, 128001, 128001, 128001, 128001, 128001, 128001, 128001, 128001, 128001, 128001, 128001, 128001, 128001, 128001, 128001, 128001, 128001, 128001, 128001, 128001, 128001, 128001, 128001, 128001, 128001, 128001, 128001, 128001, 128001, 128001, 128001, 128001, 128001, 128001, 128001, 128001, 128001, 128001, 128001, 128001, 128001, 128001, 128001, 128001, 128001, 128001, 128001, 128001, 128001, 128001, 128001, 128001, 128001, 128001, 128001, 128001, 128001, 128001, 128001, 128001, 128001, 128001, 128001, 128001, 128001, 128001, 128001, 128001, 128001, 128001, 128001, 128001, 128001, 128001, 128001, 128001, 128001, 128001, 128001, 128001, 128001, 128001, 128001, 128001, 128001, 128001, 128001, 128001, 128001, 128001, 128001, 128001, 128001, 128001, 128001, 128001, 128001, 128001, 128001, 128001, 128001, 128001, 128001, 128001, 128001, 128001, 128001, 128001, 128001, 128001, 128001, 128001, 128001, 128001, 128001, 128001, 128001, 128001, 128001, 128001, 128001, 128001, 128001, 128001, 128001, 128001, 128001, 128001, 128001, 128001, 128001, 128001, 128001, 128001, 128001, 128001, 128001, 128001, 128001, 128001], 'attention_mask': [1, 1, 1, 1, 1, 0, 0, 0, 0, 0, 0, 0, 0, 0, 0, 0, 0, 0, 0, 0, 0, 0, 0, 0, 0, 0, 0, 0, 0, 0, 0, 0, 0, 0, 0, 0, 0, 0, 0, 0, 0, 0, 0, 0, 0, 0, 0, 0, 0, 0, 0, 0, 0, 0, 0, 0, 0, 0, 0, 0, 0, 0, 0, 0, 0, 0, 0, 0, 0, 0, 0, 0, 0, 0, 0, 0, 0, 0, 0, 0, 0, 0, 0, 0, 0, 0, 0, 0, 0, 0, 0, 0, 0, 0, 0, 0, 0, 0, 0, 0, 0, 0, 0, 0, 0, 0, 0, 0, 0, 0, 0, 0, 0, 0, 0, 0, 0, 0, 0, 0, 0, 0, 0, 0, 0, 0, 0, 0, 0, 0, 0, 0, 0, 0, 0, 0, 0, 0, 0, 0, 0, 0, 0, 0, 0, 0, 0, 0, 0, 0, 0, 0, 0, 0, 0, 0, 0, 0, 0, 0, 0], 'labels': [-100, 8, -100, -100, -100, -100, -100, -100, -100, -100, -100, -100, -100, -100, -100, -100, -100, -100, -100, -100, -100, -100, -100, -100, -100, -100, -100, -100, -100, -100, -100, -100, -100, -100, -100, -100, -100, -100, -100, -100, -100, -100, -100, -100, -100, -100, -100, -100, -100, -100, -100, -100, -100, -100, -100, -100, -100, -100, -100, -100, -100, -100, -100, -100, -100, -100, -100, -100, -100, -100, -100, -100, -100, -100, -100, -100, -100, -100, -100, -100, -100, -100, -100, -100, -100, -100, -100, -100, -100, -100, -100, -100, -100, -100, -100, -100, -100, -100, -100, -100, -100, -100, -100, -100, -100, -100, -100, -100, -100, -100, -100, -100, -100, -100, -100, -100, -100, -100, -100, -100, -100, -100, -100, -100, -100, -100, -100, -100, -100, -100, -100, -100, -100, -100, -100, -100, -100, -100, -100, -100, -100, -100, -100, -100, -100, -100, -100, -100, -100, -100, -100, -100, -100, -100, -100, -100, -100, -100, -100, -100, -100]}\n"
     ]
    }
   ],
   "source": [
    "print(tokenized_datasets[\"test\"][0])"
   ]
  },
  {
   "cell_type": "code",
   "execution_count": 23,
   "metadata": {},
   "outputs": [],
   "source": [
    "def data_collator(data):\n",
    "    # Extract 'input_ids' from each item in the batch and convert them to tensors\n",
    "    input_ids = [torch.tensor(item[\"input_ids\"]) for item in data]\n",
    "\n",
    "    # Extract 'attention_mask' from each item in the batch and convert them to tensors\n",
    "    attention_mask = [torch.tensor(item[\"attention_mask\"]) for item in data]\n",
    "\n",
    "    # Extract 'labels' from each item in the batch and convert them to tensors\n",
    "    labels = [torch.tensor(item[\"labels\"]) for item in data]\n",
    "\n",
    "    # Pad the 'input_ids' to ensure all sequences in the batch have the same length\n",
    "    # Use tokenizer's pad token ID as the padding value\n",
    "    input_ids = torch.nn.utils.rnn.pad_sequence(\n",
    "        input_ids, batch_first=True, padding_value=tokenizer.pad_token_id\n",
    "    )\n",
    "\n",
    "    # Pad the 'attention_mask' to match the padded 'input_ids'\n",
    "    # Use 0 as the padding value since 0 indicates no attention\n",
    "    attention_mask = torch.nn.utils.rnn.pad_sequence(\n",
    "        attention_mask, batch_first=True, padding_value=0\n",
    "    )\n",
    "\n",
    "    # Pad the 'labels' so that all label sequences have the same length\n",
    "    # Use -100 as the padding value, which is typically ignored in loss calculations (for masked tokens)\n",
    "    labels = torch.nn.utils.rnn.pad_sequence(\n",
    "        labels, batch_first=True, padding_value=-100\n",
    "    )\n",
    "\n",
    "    # Return a dictionary containing the padded input_ids, attention_mask, and labels for the batch\n",
    "    return {\n",
    "        \"input_ids\": input_ids,\n",
    "        \"attention_mask\": attention_mask,\n",
    "        \"labels\": labels,\n",
    "    }"
   ]
  },
  {
   "cell_type": "code",
   "execution_count": 24,
   "metadata": {},
   "outputs": [],
   "source": [
    "# Extract the tokenized test data from the preprocessed dataset\n",
    "train_dataset_tokenized = tokenized_datasets[\"train\"]"
   ]
  },
  {
   "cell_type": "code",
   "execution_count": 25,
   "metadata": {},
   "outputs": [
    {
     "name": "stdout",
     "output_type": "stream",
     "text": [
      "{'input_ids': tensor([[128000,     12,  32564,  23380,     12, 128001, 128001, 128001, 128001,\n",
      "         128001, 128001, 128001, 128001, 128001, 128001, 128001, 128001, 128001,\n",
      "         128001, 128001, 128001, 128001, 128001, 128001, 128001, 128001, 128001,\n",
      "         128001, 128001, 128001, 128001, 128001, 128001, 128001, 128001, 128001,\n",
      "         128001, 128001, 128001, 128001, 128001, 128001, 128001, 128001, 128001,\n",
      "         128001, 128001, 128001, 128001, 128001, 128001, 128001, 128001, 128001,\n",
      "         128001, 128001, 128001, 128001, 128001, 128001, 128001, 128001, 128001,\n",
      "         128001, 128001, 128001, 128001, 128001, 128001, 128001, 128001, 128001,\n",
      "         128001, 128001, 128001, 128001, 128001, 128001, 128001, 128001, 128001,\n",
      "         128001, 128001, 128001, 128001, 128001, 128001, 128001, 128001, 128001],\n",
      "        [128000,  39907,  48096,     82,  33179,   6797,    998,    754,   3418,\n",
      "           1751,  52961,     75,   3042,     13, 128001, 128001, 128001, 128001,\n",
      "         128001, 128001, 128001, 128001, 128001, 128001, 128001, 128001, 128001,\n",
      "         128001, 128001, 128001, 128001, 128001, 128001, 128001, 128001, 128001,\n",
      "         128001, 128001, 128001, 128001, 128001, 128001, 128001, 128001, 128001,\n",
      "         128001, 128001, 128001, 128001, 128001, 128001, 128001, 128001, 128001,\n",
      "         128001, 128001, 128001, 128001, 128001, 128001, 128001, 128001, 128001,\n",
      "         128001, 128001, 128001, 128001, 128001, 128001, 128001, 128001, 128001,\n",
      "         128001, 128001, 128001, 128001, 128001, 128001, 128001, 128001, 128001,\n",
      "         128001, 128001, 128001, 128001, 128001, 128001, 128001, 128001, 128001]]), 'attention_mask': tensor([[1, 1, 1, 1, 1, 0, 0, 0, 0, 0, 0, 0, 0, 0, 0, 0, 0, 0, 0, 0, 0, 0, 0, 0,\n",
      "         0, 0, 0, 0, 0, 0, 0, 0, 0, 0, 0, 0, 0, 0, 0, 0, 0, 0, 0, 0, 0, 0, 0, 0,\n",
      "         0, 0, 0, 0, 0, 0, 0, 0, 0, 0, 0, 0, 0, 0, 0, 0, 0, 0, 0, 0, 0, 0, 0, 0,\n",
      "         0, 0, 0, 0, 0, 0, 0, 0, 0, 0, 0, 0, 0, 0, 0, 0, 0, 0],\n",
      "        [1, 1, 1, 1, 1, 1, 1, 1, 1, 1, 1, 1, 1, 1, 0, 0, 0, 0, 0, 0, 0, 0, 0, 0,\n",
      "         0, 0, 0, 0, 0, 0, 0, 0, 0, 0, 0, 0, 0, 0, 0, 0, 0, 0, 0, 0, 0, 0, 0, 0,\n",
      "         0, 0, 0, 0, 0, 0, 0, 0, 0, 0, 0, 0, 0, 0, 0, 0, 0, 0, 0, 0, 0, 0, 0, 0,\n",
      "         0, 0, 0, 0, 0, 0, 0, 0, 0, 0, 0, 0, 0, 0, 0, 0, 0, 0]]), 'labels': tensor([[-100,    8, -100, -100, -100, -100, -100, -100, -100, -100, -100, -100,\n",
      "         -100, -100, -100, -100, -100, -100, -100, -100, -100, -100, -100, -100,\n",
      "         -100, -100, -100, -100, -100, -100, -100, -100, -100, -100, -100, -100,\n",
      "         -100, -100, -100, -100, -100, -100, -100, -100, -100, -100, -100, -100,\n",
      "         -100, -100, -100, -100, -100, -100, -100, -100, -100, -100, -100, -100,\n",
      "         -100, -100, -100, -100, -100, -100, -100, -100, -100, -100, -100, -100,\n",
      "         -100, -100, -100, -100, -100, -100, -100, -100, -100, -100, -100, -100,\n",
      "         -100, -100, -100, -100, -100, -100],\n",
      "        [-100,    2,    8, -100,    1,    8,    8,    8, -100, -100,    1,    8,\n",
      "         -100,    8, -100, -100, -100, -100, -100, -100, -100, -100, -100, -100,\n",
      "         -100, -100, -100, -100, -100, -100, -100, -100, -100, -100, -100, -100,\n",
      "         -100, -100, -100, -100, -100, -100, -100, -100, -100, -100, -100, -100,\n",
      "         -100, -100, -100, -100, -100, -100, -100, -100, -100, -100, -100, -100,\n",
      "         -100, -100, -100, -100, -100, -100, -100, -100, -100, -100, -100, -100,\n",
      "         -100, -100, -100, -100, -100, -100, -100, -100, -100, -100, -100, -100,\n",
      "         -100, -100, -100, -100, -100, -100]])}\n"
     ]
    }
   ],
   "source": [
    "# Get a small batch of tokenized examples from your dataset\n",
    "batch = [\n",
    "    train_dataset_tokenized[i] for i in range(2)\n",
    "]  # Take 2 examples from the train set\n",
    "\n",
    "# Pass the batch through the data collator\n",
    "collated_batch = data_collator(batch)\n",
    "\n",
    "# Inspect the output\n",
    "print(collated_batch)"
   ]
  },
  {
   "cell_type": "code",
   "execution_count": 26,
   "metadata": {},
   "outputs": [
    {
     "name": "stdout",
     "output_type": "stream",
     "text": [
      "Unique NER tags: {0, 1, 2, 3, 4, 5, 6, 7, 8}\n",
      "Model's number of labels: 9\n"
     ]
    }
   ],
   "source": [
    "# Check number of unique NER tags\n",
    "unique_labels = set(\n",
    "    [label for example in datasets[\"train\"][\"ner_tags\"] for label in example]\n",
    ")\n",
    "print(f\"Unique NER tags: {unique_labels}\")\n",
    "print(f\"Model's number of labels: {model.config.num_labels}\")"
   ]
  },
  {
   "cell_type": "code",
   "execution_count": 27,
   "metadata": {},
   "outputs": [],
   "source": [
    "# Check if any label is outside the valid range\n",
    "for example in datasets[\"train\"][\"ner_tags\"]:\n",
    "    for label in example:\n",
    "        if label < 0 or label >= model.config.num_labels:\n",
    "            raise ValueError(\n",
    "                f\"Invalid label found: {label}. Expected range: [0, {model.config.num_labels - 1}]\"\n",
    "            )"
   ]
  },
  {
   "cell_type": "code",
   "execution_count": 28,
   "metadata": {},
   "outputs": [
    {
     "name": "stdout",
     "output_type": "stream",
     "text": [
      "131072\n"
     ]
    }
   ],
   "source": [
    "# Show max context length\n",
    "print(tokenizer.model_max_length)\n",
    "\n",
    "# # Set the context window explicitly to 8192 tokens\n",
    "# ctx_len = 8192\n",
    "# tokenizer.model_max_length = ctx_len\n",
    "# model.config.rope_freq_base = (ctx_len / 131_072) * 500_000\n",
    "# print(model.config.rope_freq_base)"
   ]
  },
  {
   "cell_type": "code",
   "execution_count": 29,
   "metadata": {},
   "outputs": [
    {
     "name": "stdout",
     "output_type": "stream",
     "text": [
      "trainable params: 1,722,377 || all params: 2,473,369,618 || trainable%: 0.0696\n"
     ]
    }
   ],
   "source": [
    "# Define LoRA configuration\n",
    "lora_config = LoraConfig(\n",
    "    task_type=\"TOKEN_CLS\",  # Task type for token classification\n",
    "    r=16,  # Rank of the low-rank matrices\n",
    "    lora_alpha=32,  # Scaling factor for LoRA updates\n",
    "    target_modules=[\n",
    "        \"q_proj\",\n",
    "        \"v_proj\",\n",
    "    ],  # Modules to apply LoRA (typically attention layers)\n",
    "    lora_dropout=0.1,  # Dropout rate for LoRA layers\n",
    ")\n",
    "\n",
    "# Apply LoRA to the model\n",
    "model = get_peft_model(model, lora_config)\n",
    "model.print_trainable_parameters()"
   ]
  },
  {
   "cell_type": "code",
   "execution_count": 30,
   "metadata": {},
   "outputs": [],
   "source": [
    "training_args = TrainingArguments(\n",
    "    output_dir=\"./results\",  # Directory where model checkpoints and logs will be saved\n",
    "    eval_strategy=\"epoch\",  # Evaluation strategy to perform evaluation at the end of every epoch\n",
    "    learning_rate=2e-4,  # Initial learning rate for the optimizer\n",
    "    per_device_train_batch_size=16,  # Batch size per device (GPU/CPU) during training\n",
    "    per_device_eval_batch_size=16,  # Batch size per device (GPU/CPU) during evaluation\n",
    "    num_train_epochs=10,  # Number of training epochs (full passes through the dataset)\n",
    "    lr_scheduler_type=\"cosine\",  # Learning rate scheduler type (cosine decay in this case)\n",
    "    seed=42,  # Random seed for reproducibility\n",
    "    metric_for_best_model=\"f1\",  # Metric to use for selecting the best model during evaluation\n",
    "    weight_decay=0.01,  # Weight decay (L2 regularization) to prevent overfitting\n",
    "    bf16=True,  # Use bfloat16 precision for faster training and reduced memory usage (if supported by hardware)\n",
    "    remove_unused_columns=True,  # Remove columns not used by the model\n",
    ")"
   ]
  },
  {
   "cell_type": "code",
   "execution_count": 31,
   "metadata": {},
   "outputs": [],
   "source": [
    "# Initialize the Trainer class for model training and evaluation\n",
    "trainer = Trainer(\n",
    "    model=model,  # The model to be trained\n",
    "    train_dataset=tokenized_datasets[\"train\"],  # The tokenized training dataset\n",
    "    eval_dataset=tokenized_datasets[\n",
    "        \"validation\"\n",
    "    ],  # The tokenized validation dataset for evaluation during training\n",
    "    data_collator=data_collator,  # A function or object that batches and pads the data\n",
    "    processing_class=tokenizer,  # The tokenizer used for processing the input text\n",
    "    compute_metrics=compute_metrics,  # A function to compute metrics during evaluation (e.g., accuracy, F1 score)\n",
    "    args=training_args,  # Training arguments like batch size, number of epochs, learning rate, etc.\n",
    ")"
   ]
  },
  {
   "cell_type": "code",
   "execution_count": 32,
   "metadata": {},
   "outputs": [
    {
     "data": {
      "application/vnd.jupyter.widget-view+json": {
       "model_id": "87673f1e2900457a937c353b65d9e04c",
       "version_major": 2,
       "version_minor": 0
      },
      "text/plain": [
       "  0%|          | 0/9370 [00:00<?, ?it/s]"
      ]
     },
     "metadata": {},
     "output_type": "display_data"
    },
    {
     "name": "stdout",
     "output_type": "stream",
     "text": [
      "{'loss': 0.2287, 'grad_norm': 2.216888427734375, 'learning_rate': 0.00019859811225790162, 'epoch': 0.53}\n"
     ]
    },
    {
     "data": {
      "application/vnd.jupyter.widget-view+json": {
       "model_id": "30dbe002b84f423abbcdb51925e91659",
       "version_major": 2,
       "version_minor": 0
      },
      "text/plain": [
       "  0%|          | 0/217 [00:00<?, ?it/s]"
      ]
     },
     "metadata": {},
     "output_type": "display_data"
    },
    {
     "name": "stdout",
     "output_type": "stream",
     "text": [
      "{'eval_loss': 0.13980472087860107, 'eval_accuracy': 0.9598472216836635, 'eval_precision': 0.6722205392305362, 'eval_recall': 0.7468865701783911, 'eval_f1': 0.7075892857142857, 'eval_runtime': 35.0334, 'eval_samples_per_second': 98.934, 'eval_steps_per_second': 6.194, 'epoch': 1.0}\n",
      "{'loss': 0.1229, 'grad_norm': 1.372622013092041, 'learning_rate': 0.00019443175481643533, 'epoch': 1.07}\n",
      "{'loss': 0.1007, 'grad_norm': 0.9072914123535156, 'learning_rate': 0.00018761774298412903, 'epoch': 1.6}\n"
     ]
    },
    {
     "data": {
      "application/vnd.jupyter.widget-view+json": {
       "model_id": "17de7577c2ec415d8d14a52d3bdc0b68",
       "version_major": 2,
       "version_minor": 0
      },
      "text/plain": [
       "  0%|          | 0/217 [00:00<?, ?it/s]"
      ]
     },
     "metadata": {},
     "output_type": "display_data"
    },
    {
     "name": "stdout",
     "output_type": "stream",
     "text": [
      "{'eval_loss': 0.11577490717172623, 'eval_accuracy': 0.9668269417193377, 'eval_precision': 0.739708265802269, 'eval_recall': 0.7680915516661057, 'eval_f1': 0.7536327608982827, 'eval_runtime': 34.9855, 'eval_samples_per_second': 99.07, 'eval_steps_per_second': 6.203, 'epoch': 2.0}\n",
      "{'loss': 0.092, 'grad_norm': 1.6119520664215088, 'learning_rate': 0.00017834712635422716, 'epoch': 2.13}\n",
      "{'loss': 0.0766, 'grad_norm': 1.0632569789886475, 'learning_rate': 0.00016687983220303282, 'epoch': 2.67}\n"
     ]
    },
    {
     "data": {
      "application/vnd.jupyter.widget-view+json": {
       "model_id": "1c0d64e2fe6e4adfaa17b3db8d5a5503",
       "version_major": 2,
       "version_minor": 0
      },
      "text/plain": [
       "  0%|          | 0/217 [00:00<?, ?it/s]"
      ]
     },
     "metadata": {},
     "output_type": "display_data"
    },
    {
     "name": "stdout",
     "output_type": "stream",
     "text": [
      "{'eval_loss': 0.11704394221305847, 'eval_accuracy': 0.9669044941641786, 'eval_precision': 0.7197561738043139, 'eval_recall': 0.7749915853248065, 'eval_f1': 0.7463533225283631, 'eval_runtime': 34.6985, 'eval_samples_per_second': 99.889, 'eval_steps_per_second': 6.254, 'epoch': 3.0}\n",
      "{'loss': 0.0698, 'grad_norm': 0.4631196856498718, 'learning_rate': 0.00015353737771265787, 'epoch': 3.2}\n",
      "{'loss': 0.0628, 'grad_norm': 0.6546127200126648, 'learning_rate': 0.0001386938553510936, 'epoch': 3.74}\n"
     ]
    },
    {
     "data": {
      "application/vnd.jupyter.widget-view+json": {
       "model_id": "ec88b8307ed745049ed7f5b5bd14fa4c",
       "version_major": 2,
       "version_minor": 0
      },
      "text/plain": [
       "  0%|          | 0/217 [00:00<?, ?it/s]"
      ]
     },
     "metadata": {},
     "output_type": "display_data"
    },
    {
     "name": "stdout",
     "output_type": "stream",
     "text": [
      "{'eval_loss': 0.12292949855327606, 'eval_accuracy': 0.9684943192834155, 'eval_precision': 0.7485107068104975, 'eval_recall': 0.7823964994951195, 'eval_f1': 0.7650785814202254, 'eval_runtime': 34.9613, 'eval_samples_per_second': 99.138, 'eval_steps_per_second': 6.207, 'epoch': 4.0}\n",
      "{'loss': 0.0556, 'grad_norm': 0.515647828578949, 'learning_rate': 0.00012276544415930476, 'epoch': 4.27}\n",
      "{'loss': 0.053, 'grad_norm': 0.5233795642852783, 'learning_rate': 0.00010619874102530885, 'epoch': 4.8}\n"
     ]
    },
    {
     "data": {
      "application/vnd.jupyter.widget-view+json": {
       "model_id": "6b156485436e467b8181ca26eff74464",
       "version_major": 2,
       "version_minor": 0
      },
      "text/plain": [
       "  0%|          | 0/217 [00:00<?, ?it/s]"
      ]
     },
     "metadata": {},
     "output_type": "display_data"
    },
    {
     "name": "stdout",
     "output_type": "stream",
     "text": [
      "{'eval_loss': 0.12736749649047852, 'eval_accuracy': 0.9669626584978092, 'eval_precision': 0.7321231254932913, 'eval_recall': 0.7805452709525412, 'eval_f1': 0.7555591756943879, 'eval_runtime': 34.0564, 'eval_samples_per_second': 101.772, 'eval_steps_per_second': 6.372, 'epoch': 5.0}\n",
      "{'loss': 0.0469, 'grad_norm': 0.8857635259628296, 'learning_rate': 8.945823911011648e-05, 'epoch': 5.34}\n",
      "{'loss': 0.0428, 'grad_norm': 0.8495718836784363, 'learning_rate': 7.301330450235733e-05, 'epoch': 5.87}\n"
     ]
    },
    {
     "data": {
      "application/vnd.jupyter.widget-view+json": {
       "model_id": "20f605c09b0a4fc989df45953696eb07",
       "version_major": 2,
       "version_minor": 0
      },
      "text/plain": [
       "  0%|          | 0/217 [00:00<?, ?it/s]"
      ]
     },
     "metadata": {},
     "output_type": "display_data"
    },
    {
     "name": "stdout",
     "output_type": "stream",
     "text": [
      "{'eval_loss': 0.14923696219921112, 'eval_accuracy': 0.9677187948350072, 'eval_precision': 0.7382090503505417, 'eval_recall': 0.7797038034331875, 'eval_f1': 0.7583892617449665, 'eval_runtime': 34.263, 'eval_samples_per_second': 101.159, 'eval_steps_per_second': 6.333, 'epoch': 6.0}\n",
      "{'loss': 0.0398, 'grad_norm': 0.7183623313903809, 'learning_rate': 5.73250162469559e-05, 'epoch': 6.4}\n",
      "{'loss': 0.0383, 'grad_norm': 0.8207968473434448, 'learning_rate': 4.2833238723907275e-05, 'epoch': 6.94}\n"
     ]
    },
    {
     "data": {
      "application/vnd.jupyter.widget-view+json": {
       "model_id": "5554c3a91e474266910c2616490365e8",
       "version_major": 2,
       "version_minor": 0
      },
      "text/plain": [
       "  0%|          | 0/217 [00:00<?, ?it/s]"
      ]
     },
     "metadata": {},
     "output_type": "display_data"
    },
    {
     "name": "stdout",
     "output_type": "stream",
     "text": [
      "{'eval_loss': 0.15124143660068512, 'eval_accuracy': 0.9675249137229052, 'eval_precision': 0.7333228197445197, 'eval_recall': 0.7825647929989903, 'eval_f1': 0.7571440201905072, 'eval_runtime': 34.6473, 'eval_samples_per_second': 100.037, 'eval_steps_per_second': 6.263, 'epoch': 7.0}\n",
      "{'loss': 0.0354, 'grad_norm': 0.7675763368606567, 'learning_rate': 2.9944288838627054e-05, 'epoch': 7.47}\n"
     ]
    },
    {
     "data": {
      "application/vnd.jupyter.widget-view+json": {
       "model_id": "36a3a073d11b43b7ad1f2caeb0a9dec2",
       "version_major": 2,
       "version_minor": 0
      },
      "text/plain": [
       "  0%|          | 0/217 [00:00<?, ?it/s]"
      ]
     },
     "metadata": {},
     "output_type": "display_data"
    },
    {
     "name": "stdout",
     "output_type": "stream",
     "text": [
      "{'eval_loss': 0.16000741720199585, 'eval_accuracy': 0.9676024661677459, 'eval_precision': 0.73931012557622, 'eval_recall': 0.782733086502861, 'eval_f1': 0.7604021907953895, 'eval_runtime': 34.6537, 'eval_samples_per_second': 100.018, 'eval_steps_per_second': 6.262, 'epoch': 8.0}\n",
      "{'loss': 0.0355, 'grad_norm': 0.7349644303321838, 'learning_rate': 1.9019543808169115e-05, 'epoch': 8.0}\n",
      "{'loss': 0.0337, 'grad_norm': 0.49222540855407715, 'learning_rate': 1.0365308955408459e-05, 'epoch': 8.54}\n"
     ]
    },
    {
     "data": {
      "application/vnd.jupyter.widget-view+json": {
       "model_id": "e4d42ec7739d4dd69888d757360ca3aa",
       "version_major": 2,
       "version_minor": 0
      },
      "text/plain": [
       "  0%|          | 0/217 [00:00<?, ?it/s]"
      ]
     },
     "metadata": {},
     "output_type": "display_data"
    },
    {
     "name": "stdout",
     "output_type": "stream",
     "text": [
      "{'eval_loss': 0.1626627892255783, 'eval_accuracy': 0.9675830780565358, 'eval_precision': 0.7380460683081811, 'eval_recall': 0.7818916189835072, 'eval_f1': 0.7593364386696085, 'eval_runtime': 34.3008, 'eval_samples_per_second': 101.047, 'eval_steps_per_second': 6.326, 'epoch': 9.0}\n",
      "{'loss': 0.0333, 'grad_norm': 1.046114444732666, 'learning_rate': 4.224229595491591e-06, 'epoch': 9.07}\n",
      "{'loss': 0.0329, 'grad_norm': 0.28749316930770874, 'learning_rate': 7.684878059769363e-07, 'epoch': 9.61}\n"
     ]
    },
    {
     "data": {
      "application/vnd.jupyter.widget-view+json": {
       "model_id": "afbbabe8ae63432ea147e80cf860b01f",
       "version_major": 2,
       "version_minor": 0
      },
      "text/plain": [
       "  0%|          | 0/217 [00:00<?, ?it/s]"
      ]
     },
     "metadata": {},
     "output_type": "display_data"
    },
    {
     "name": "stdout",
     "output_type": "stream",
     "text": [
      "{'eval_loss': 0.16351068019866943, 'eval_accuracy': 0.9676024661677459, 'eval_precision': 0.7370675975880673, 'eval_recall': 0.7817233254796365, 'eval_f1': 0.7587389741914409, 'eval_runtime': 34.9639, 'eval_samples_per_second': 99.131, 'eval_steps_per_second': 6.206, 'epoch': 10.0}\n",
      "{'train_runtime': 8573.3786, 'train_samples_per_second': 17.481, 'train_steps_per_second': 1.093, 'train_loss': 0.06533932589161486, 'epoch': 10.0}\n"
     ]
    },
    {
     "data": {
      "text/plain": [
       "TrainOutput(global_step=9370, training_loss=0.06533932589161486, metrics={'train_runtime': 8573.3786, 'train_samples_per_second': 17.481, 'train_steps_per_second': 1.093, 'total_flos': 2.4838288549810294e+17, 'train_loss': 0.06533932589161486, 'epoch': 10.0})"
      ]
     },
     "execution_count": 32,
     "metadata": {},
     "output_type": "execute_result"
    }
   ],
   "source": [
    "# Train the model\n",
    "trainer.train()"
   ]
  },
  {
   "cell_type": "code",
   "execution_count": 33,
   "metadata": {},
   "outputs": [],
   "source": [
    "# Save the model\n",
    "trainer.save_model(\"./bidirectional_llama32\")"
   ]
  },
  {
   "cell_type": "code",
   "execution_count": 34,
   "metadata": {},
   "outputs": [],
   "source": [
    "# Extract datasets\n",
    "train_dataset_tokenized = tokenized_datasets[\"train\"]\n",
    "val_dataset_tokenized = tokenized_datasets[\"validation\"]\n",
    "test_dataset_tokenized = tokenized_datasets[\"test\"]"
   ]
  },
  {
   "cell_type": "code",
   "execution_count": 35,
   "metadata": {},
   "outputs": [
    {
     "data": {
      "application/vnd.jupyter.widget-view+json": {
       "model_id": "f5e44b33cda64294b39c22e3ce66f1a6",
       "version_major": 2,
       "version_minor": 0
      },
      "text/plain": [
       "  0%|          | 0/937 [00:00<?, ?it/s]"
      ]
     },
     "metadata": {},
     "output_type": "display_data"
    },
    {
     "data": {
      "application/vnd.jupyter.widget-view+json": {
       "model_id": "ae2019056d62442cb25c3c71764bec40",
       "version_major": 2,
       "version_minor": 0
      },
      "text/plain": [
       "  0%|          | 0/217 [00:00<?, ?it/s]"
      ]
     },
     "metadata": {},
     "output_type": "display_data"
    },
    {
     "data": {
      "application/vnd.jupyter.widget-view+json": {
       "model_id": "a21c8db00e0e41f9ae77ae19c234f7b0",
       "version_major": 2,
       "version_minor": 0
      },
      "text/plain": [
       "  0%|          | 0/231 [00:00<?, ?it/s]"
      ]
     },
     "metadata": {},
     "output_type": "display_data"
    }
   ],
   "source": [
    "# Use the trained model to perform predictions on the tokenized test dataset\n",
    "# 'predictions' will contain the model's output, 'labels' will contain the true labels,\n",
    "# and 'metrics' will store evaluation metrics (e.g., accuracy, precision, recall, etc.)\n",
    "predictions_train, labels_train, metrics_train = trainer.predict(\n",
    "    train_dataset_tokenized\n",
    ")\n",
    "predictions_val, labels_val, metrics_val = trainer.predict(val_dataset_tokenized)\n",
    "predictions_test, labels_test, metrics_test = trainer.predict(test_dataset_tokenized)"
   ]
  },
  {
   "cell_type": "code",
   "execution_count": 36,
   "metadata": {},
   "outputs": [
    {
     "data": {
      "text/plain": [
       "'Training Performance: '"
      ]
     },
     "metadata": {},
     "output_type": "display_data"
    },
    {
     "data": {
      "text/plain": [
       "{'test_loss': 0.03905592858791351,\n",
       " 'test_accuracy': 0.9880577023664618,\n",
       " 'test_precision': 0.8920704845814978,\n",
       " 'test_recall': 0.9134431252393719,\n",
       " 'test_f1': 0.9026303063434327,\n",
       " 'test_runtime': 166.3242,\n",
       " 'test_samples_per_second': 90.107,\n",
       " 'test_steps_per_second': 5.634}"
      ]
     },
     "metadata": {},
     "output_type": "display_data"
    },
    {
     "data": {
      "text/plain": [
       "'Validation Performance: '"
      ]
     },
     "metadata": {},
     "output_type": "display_data"
    },
    {
     "data": {
      "text/plain": [
       "{'test_loss': 0.16351068019866943,\n",
       " 'test_accuracy': 0.9676024661677459,\n",
       " 'test_precision': 0.7370675975880673,\n",
       " 'test_recall': 0.7817233254796365,\n",
       " 'test_f1': 0.7587389741914409,\n",
       " 'test_runtime': 23.5999,\n",
       " 'test_samples_per_second': 146.865,\n",
       " 'test_steps_per_second': 9.195}"
      ]
     },
     "metadata": {},
     "output_type": "display_data"
    },
    {
     "data": {
      "text/plain": [
       "'Test Performance: '"
      ]
     },
     "metadata": {},
     "output_type": "display_data"
    },
    {
     "data": {
      "text/plain": [
       "{'test_loss': 0.2707212269306183,\n",
       " 'test_accuracy': 0.9550422148887842,\n",
       " 'test_precision': 0.6784026079869601,\n",
       " 'test_recall': 0.7368980169971672,\n",
       " 'test_f1': 0.706441483493168,\n",
       " 'test_runtime': 27.4498,\n",
       " 'test_samples_per_second': 134.209,\n",
       " 'test_steps_per_second': 8.415}"
      ]
     },
     "metadata": {},
     "output_type": "display_data"
    }
   ],
   "source": [
    "# Display the performance metrics\n",
    "display(\"Training Performance: \", metrics_train)\n",
    "display(\"Validation Performance: \", metrics_val)\n",
    "display(\"Test Performance: \", metrics_test)"
   ]
  },
  {
   "cell_type": "code",
   "execution_count": 37,
   "metadata": {},
   "outputs": [
    {
     "name": "stdout",
     "output_type": "stream",
     "text": [
      "Example 1: Steve Jobs, the co-founder of Apple Inc., was born in San Francisco, California.\n",
      "####\n",
      "Named Entities:\n",
      "Jobs: I-PER\n",
      "Apple: B-ORG\n",
      "Inc: I-ORG\n",
      "San: B-LOC\n",
      "Francisco: I-LOC\n",
      "California: B-LOC\n"
     ]
    }
   ],
   "source": [
    "set_seed(42)\n",
    "\n",
    "# Input sentence\n",
    "sentence = (\n",
    "    \"Steve Jobs, the co-founder of Apple Inc., was born in San Francisco, California.\"\n",
    ")\n",
    "\n",
    "# Tokenize without adding special tokens\n",
    "tokenized_input = tokenizer(sentence, return_tensors=\"pt\", add_special_tokens=False).to(\n",
    "    model.device\n",
    ")\n",
    "\n",
    "# Get model outputs\n",
    "outputs = model(**tokenized_input)\n",
    "\n",
    "# Get predicted labels (argmax over logits)\n",
    "predicted_labels = outputs.logits.argmax(-1)[0]\n",
    "\n",
    "# Inverted label map (assuming label_map is defined elsewhere)\n",
    "label_map_inverted = {v: k for k, v in label_map.items()}\n",
    "\n",
    "# Initialize variables to store named entities\n",
    "named_entities = []\n",
    "current_entity_tokens = []\n",
    "current_label = None\n",
    "\n",
    "# Iterate over tokens and predicted labels\n",
    "for token_id, label_id in zip(tokenized_input[\"input_ids\"][0], predicted_labels):\n",
    "    token = tokenizer.decode([token_id])\n",
    "    label = label_map_inverted[label_id.item()]\n",
    "\n",
    "    # Skip 'O' labels (non-entity tokens)\n",
    "    if label == \"O\":\n",
    "        if current_entity_tokens:\n",
    "            # Append the current entity and its label to the list\n",
    "            named_entities.append(\n",
    "                (\" \".join(current_entity_tokens).strip(), current_label)\n",
    "            )\n",
    "            current_entity_tokens = []\n",
    "            current_label = None\n",
    "        continue\n",
    "\n",
    "    # Handle subword tokens (tokens starting with '##')\n",
    "    if token.startswith(\"##\"):\n",
    "        current_entity_tokens[-1] += token[2:]  # Append subword to the last token\n",
    "    else:\n",
    "        # If it's a new entity or different from the current one, append the previous entity first\n",
    "        if (\n",
    "            not current_entity_tokens\n",
    "            or label.split(\"-\")[0] == \"B\"\n",
    "            or label != current_label\n",
    "        ):\n",
    "            if current_entity_tokens:\n",
    "                named_entities.append(\n",
    "                    (\" \".join(current_entity_tokens).strip(), current_label)\n",
    "                )\n",
    "            current_entity_tokens = [token]  # Start a new entity\n",
    "        else:\n",
    "            current_entity_tokens.append(\n",
    "                token\n",
    "            )  # Continue appending to the current entity\n",
    "\n",
    "        current_label = label\n",
    "\n",
    "# Append any remaining entity at the end\n",
    "if current_entity_tokens:\n",
    "    named_entities.append((\" \".join(current_entity_tokens).strip(), current_label))\n",
    "\n",
    "# Print results\n",
    "print(\"Example 1:\", sentence)\n",
    "print(\"####\")\n",
    "print(\"Named Entities:\")\n",
    "for entity, label in named_entities:\n",
    "    print(f\"{entity}: {label}\")"
   ]
  }
 ],
 "metadata": {
  "kernelspec": {
   "display_name": "ner",
   "language": "python",
   "name": "python3"
  },
  "language_info": {
   "codemirror_mode": {
    "name": "ipython",
    "version": 3
   },
   "file_extension": ".py",
   "mimetype": "text/x-python",
   "name": "python",
   "nbconvert_exporter": "python",
   "pygments_lexer": "ipython3",
   "version": "3.11.10"
  }
 },
 "nbformat": 4,
 "nbformat_minor": 2
}
